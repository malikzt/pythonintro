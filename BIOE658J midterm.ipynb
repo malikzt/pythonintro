{
 "cells": [
  {
   "cell_type": "markdown",
   "metadata": {},
   "source": [
    "# Miterm 1 BIOE 658J \n",
    "## Date: September 27, 2023\n",
    "# Your name: Zannate Malik\n",
    "\n",
    "***Please submit the Jupyter notebook file.***\n",
    "\n",
    "\n",
    "## Problem 1 (25 points):\n",
    "For all question please make sure to print the final results using the `print` function."
   ]
  },
  {
   "cell_type": "markdown",
   "metadata": {},
   "source": [
    "### Question 1:  \n",
    "Please write a code that extract the numbers from a sentence."
   ]
  },
  {
   "cell_type": "markdown",
   "metadata": {},
   "source": [
    "answer here:"
   ]
  },
  {
   "cell_type": "code",
   "execution_count": 1,
   "metadata": {},
   "outputs": [
    {
     "name": "stdout",
     "output_type": "stream",
     "text": [
      "['1', '3']\n"
     ]
    }
   ],
   "source": [
    "def extract(sentence):\n",
    "    numbers = []\n",
    "    current_num = \"\"\n",
    "    \n",
    "    for char in sentence:\n",
    "        if char.isdigit():\n",
    "            current_num += char\n",
    "        elif current_num:\n",
    "            numbers.append(current_num)\n",
    "            current_num = \"\"\n",
    "    if current_num:\n",
    "        numbers.append(current_num)\n",
    "        \n",
    "    return numbers\n",
    "sentence = 'Farid is 1 of my 3 favorite names'\n",
    "numbers = extract(sentence)\n",
    "print(numbers)\n"
   ]
  },
  {
   "cell_type": "code",
   "execution_count": 3,
   "metadata": {},
   "outputs": [
    {
     "name": "stdout",
     "output_type": "stream",
     "text": [
      "13\n"
     ]
    }
   ],
   "source": [
    "#----\n",
    "sentence = 'Farid is 1 of my 3 favorite names'\n",
    "\n"
   ]
  },
  {
   "cell_type": "markdown",
   "metadata": {},
   "source": [
    "### Question 2:\n",
    "Write a Python program to create a tuple with numbers, convert the created tuple to a list, and then print the second-to-last item in that list."
   ]
  },
  {
   "cell_type": "code",
   "execution_count": 11,
   "metadata": {},
   "outputs": [
    {
     "name": "stdout",
     "output_type": "stream",
     "text": [
      "2\n"
     ]
    }
   ],
   "source": [
    "# code here please\n",
    "tuple1 = (4,3,2,1)\n",
    "list1 = list(tuple1)\n",
    "print(list1[-2])"
   ]
  },
  {
   "cell_type": "code",
   "execution_count": 2,
   "metadata": {},
   "outputs": [
    {
     "name": "stdout",
     "output_type": "stream",
     "text": [
      "3\n"
     ]
    }
   ],
   "source": [
    "tuple2 = (1, 2, 3, 4)\n",
    "list2 = list(tuple2)\n",
    "print(list2[-2])\n"
   ]
  },
  {
   "cell_type": "markdown",
   "metadata": {},
   "source": [
    "### Question 3:\n",
    "Create a Python program that fulfills the following requirements:\n",
    "\n",
    "1. Create a dictionary called student_grades with the following key-value pairs:\n",
    "```\n",
    "student_grades = {\n",
    "    \"Alex\": 90,\n",
    "    \"Brad\": 85,\n",
    "    \"Cara\": 92,\n",
    "    \"Dana\": 88,\n",
    "}\n",
    "\n",
    "```\n",
    "2. Write a function called update_grades that:\n",
    "\n",
    "* Takes a dictionary, a student name (string), and a grade (integer) as parameters.\n",
    "* If the student name exists in the dictionary, it should update the student’s grade.\n",
    "* If the student name does not exist in the dictionary, it should add the student name with the provided grade to the dictionary.\n",
    "* After updating/adding, it should print the updated dictionary.\n",
    "* Return the updated dictionary.\n",
    "\n",
    "3. Call this function to update the grade of “Brad” to 87.\n",
    "\n",
    "4. Call this function to add a new student “Eva” with a grade of 95.\n",
    "\n",
    "Finally, print the updated student_grades dictionary."
   ]
  },
  {
   "cell_type": "code",
   "execution_count": 4,
   "metadata": {},
   "outputs": [
    {
     "name": "stdout",
     "output_type": "stream",
     "text": [
      "Updated Grades: {'Alex': 90, 'Brad': 87, 'Cara': 92, 'Dana': 88}\n",
      "Updated Grades: {'Alex': 90, 'Brad': 87, 'Cara': 92, 'Dana': 88, 'Eva': 95}\n",
      "Final Student Grades: {'Alex': 90, 'Brad': 87, 'Cara': 92, 'Dana': 88, 'Eva': 95}\n"
     ]
    }
   ],
   "source": [
    "# code here please:\n",
    "student_grades = {\n",
    "    \"Alex\": 90,\n",
    "    \"Brad\": 85,\n",
    "    \"Cara\": 92,\n",
    "    \"Dana\": 88,\n",
    "}"
   ]
  },
  {
   "cell_type": "code",
   "execution_count": 13,
   "metadata": {},
   "outputs": [
    {
     "name": "stdout",
     "output_type": "stream",
     "text": [
      "updated grades: {'Alex': 90, 'Brad': 87, 'Cara': 92, 'Dana': 88}\n",
      "updated grades: {'Alex': 90, 'Brad': 87, 'Cara': 92, 'Dana': 88, 'Eva': 95}\n",
      "Final Student Grades: {'Alex': 90, 'Brad': 87, 'Cara': 92, 'Dana': 88, 'Eva': 95}\n"
     ]
    }
   ],
   "source": [
    "student_grades = {\n",
    "    \"Alex\": 90,\n",
    "    \"Brad\": 85,\n",
    "    \"Cara\": 92,\n",
    "    \"Dana\": 88,\n",
    "}\n",
    "\n",
    "def update_grade(grade_dict, student_name, grade):\n",
    "    if student_name in grade_dict:\n",
    "        grade_dict[student_name]=grade\n",
    "    else:\n",
    "        grade_dict[student_name]=grade\n",
    "    print(\"updated grades:\", grade_dict)\n",
    "    \n",
    "    return grade_dict\n",
    "student_grades = update_grade(student_grades, \"Brad\",87)\n",
    "student_grades = update_grade(student_grades, \"Eva\", 95)\n",
    "\n",
    "print(\"Final Student Grades:\", student_grades)"
   ]
  },
  {
   "cell_type": "markdown",
   "metadata": {},
   "source": [
    "### Question 4**:\n",
    "Please help me fix that code:"
   ]
  },
  {
   "cell_type": "code",
   "execution_count": 4,
   "metadata": {},
   "outputs": [
    {
     "ename": "ModuleNotFoundError",
     "evalue": "No module named 'math22'",
     "output_type": "error",
     "traceback": [
      "\u001b[0;31m---------------------------------------------------------------------------\u001b[0m",
      "\u001b[0;31mModuleNotFoundError\u001b[0m                       Traceback (most recent call last)",
      "Cell \u001b[0;32mIn[4], line 1\u001b[0m\n\u001b[0;32m----> 1\u001b[0m \u001b[38;5;28;01mimport\u001b[39;00m \u001b[38;5;21;01mmath22\u001b[39;00m \u001b[38;5;28;01mas\u001b[39;00m \u001b[38;5;21;01mm\u001b[39;00m\n\u001b[1;32m      2\u001b[0m list1 \u001b[38;5;241m=\u001b[39m [\u001b[38;5;241m1\u001b[39m,\u001b[38;5;241m2\u001b[39m,\u001b[38;5;241m3\u001b[39m]\n\u001b[1;32m      3\u001b[0m list2 \u001b[38;5;241m=\u001b[39m [\u001b[38;5;241m2\u001b[39m,\u001b[38;5;241m4\u001b[39m,\u001b[38;5;241m6\u001b[39m]\n",
      "\u001b[0;31mModuleNotFoundError\u001b[0m: No module named 'math22'"
     ]
    }
   ],
   "source": [
    "import math22 as m\n",
    "list1 = [1,2,3]\n",
    "list2 = [2,4,6]\n",
    "list3  = m.addlists(list1, list2)\n",
    "print(list3)"
   ]
  },
  {
   "cell_type": "code",
   "execution_count": 9,
   "metadata": {},
   "outputs": [
    {
     "name": "stdout",
     "output_type": "stream",
     "text": [
      "[3, 6, 9]\n"
     ]
    }
   ],
   "source": [
    "list1 = [1,2,3]\n",
    "list2 = [2,4,6]\n",
    "list3  = addlists(list1, list2)\n",
    "def addlists(list1, list2):\n",
    "    if len(list1) != len(list2):\n",
    "        print(\"error\")\n",
    "        return []\n",
    "    result = []\n",
    "    for i in range(len(list1)):\n",
    "        result.append(list1[i] + list2[i])\n",
    "    return result\n",
    "print(list3)\n"
   ]
  },
  {
   "cell_type": "markdown",
   "metadata": {},
   "source": [
    "## Problem 2 (25 points): Newton's method for finding roots, minmum and maximum values.\n",
    "\n",
    "### Question 1:\n",
    "This is an iterative method invented by Isaac Newton around 1664. However, this method is also sometimes called the Raphson method, since Raphson invented the same algorithm a few years after Newton, but his article was published much earlier.\n",
    "\n",
    "The task is as follows. Given the following equation:\n",
    "```\n",
    "f(x)=0\n",
    "```\n",
    "We want to solve the equation. More precisely, we want to find one of its roots (it is assumed that the root exists). It is assumed that f(x) is continuous and differentiable on an interval `[a,b]`.\n",
    "\n",
    "In our case, the input consits of a function f(x) and initial approximation and tolerance that should be compared to $\\lvert f(x) - 0 \\rvert$.\n",
    "The algorthm is as following:\n",
    "1. start with an initial guess\n",
    "2. update the values using the following eqaution: $ x_{i+1} = x_{i} - h\\frac{f(x_i)}{f'(x_i)} $\n",
    "3. calculate the bias  = $\\lvert f(x) - 0 \\rvert$\n",
    "4. stop when bias is equal or smaller to the tolerence and report the value.\n"
   ]
  },
  {
   "cell_type": "markdown",
   "metadata": {},
   "source": [
    "### Question 1:\n",
    "Define a Function that returns the value of CosPol(x), which is the cosine of a second degree polynomial function represented by the list of its coefficients.\n",
    "$CosPol(x) = cos(a_2x^2 + a1x + a0)$\n",
    "\n",
    "Test the function on CosPol(x) = Cos(x**2 - 4)"
   ]
  },
  {
   "cell_type": "code",
   "execution_count": 44,
   "metadata": {},
   "outputs": [
    {
     "data": {
      "image/png": "[encoded data removed]",
      "text/plain": [
       "<Figure size 640x480 with 1 Axes>"
      ]
     },
     "metadata": {},
     "output_type": "display_data"
    }
   ],
   "source": [
    "#%%\n",
    "import matplotlib.pyplot as plt\n",
    "import math\n",
    "import decimal\n",
    "\n",
    "# https://www.techbeamers.com/python-float-range/\n",
    "# this one is to generate list float data \n",
    "def float_range(start, stop, step):\n",
    "  while start < stop:\n",
    "    yield float(start)\n",
    "    start += decimal.Decimal(step)\n",
    "\n",
    "\n",
    "def  CosPol(coeff,x):\n",
    "    a0, a1, a2 = coeff\n",
    "    polynomial = a2 * x**2 + a1 * x + a0\n",
    "    cosine_value = math.cos(polynomial)\n",
    "    return cosine_value\n",
    "\n",
    "\n",
    "X = list(float_range(1,2,0.01))\n",
    "coeff = [1, 0, -4] \n",
    "\n",
    "Y = []\n",
    "for x in X:\n",
    "    Y.append(CosPol(coeff,x))\n",
    "\n",
    "plt.plot(X, Y)\n",
    "plt.show()"
   ]
  },
  {
   "cell_type": "markdown",
   "metadata": {},
   "source": [
    "### Question 2:\n",
    "Define another function for the derivative of CosPol:"
   ]
  },
  {
   "cell_type": "code",
   "execution_count": 45,
   "metadata": {},
   "outputs": [
    {
     "data": {
      "image/png": "[encoded data removed]",
      "text/plain": [
       "<Figure size 640x480 with 1 Axes>"
      ]
     },
     "metadata": {},
     "output_type": "display_data"
    }
   ],
   "source": [
    "#%%\n",
    "def  dev_CosPol(coeff,x):\n",
    "    a0, a1, a2 = coeff\n",
    "    polynomial = a2 * x**2 + a1 * x + a0\n",
    "    derivative = -2 * a2 * x * math.sin(polynomial)\n",
    "    return derivative\n",
    "\n",
    "\n",
    "dev_P = []\n",
    "for x in X:\n",
    "    dev_P.append(dev_CosPol(coeff,x))\n",
    "\n",
    "plt.plot(X, dev_P)\n",
    "plt.show()\n"
   ]
  },
  {
   "cell_type": "markdown",
   "metadata": {},
   "source": [
    "### Question 3:\n",
    "Use the two functions to implemet the Newton's method to find the root of $CosPol(x) = Cos(x^2 - 4)$ between [1 2]. Use an intial guess of 1 and tolerence of 0.01 and regularization fator h = 0.1."
   ]
  },
  {
   "cell_type": "code",
   "execution_count": 48,
   "metadata": {},
   "outputs": [
    {
     "name": "stdout",
     "output_type": "stream",
     "text": [
      "solution is 1.990000\n"
     ]
    }
   ],
   "source": [
    "#%%\n",
    "bias  =  1\n",
    "tol   =  0.01\n",
    "x0    = 1 #<-- this is the initial guess\n",
    "h = 0.1\n",
    "\n",
    "while bias > tol:\n",
    "    cos_polynomial = CosPol(coeff, x0)\n",
    "    \n",
    "    derivative = dev_CosPol(coeff, x0)\n",
    "    \n",
    "    if derivative != 0:\n",
    "        x1 = x0 - h * cos_polynomial / derivative\n",
    "    else:\n",
    "        break \n",
    "    \n",
    "  \n",
    "    bias = abs(cos_polynomial)\n",
    "    \n",
    "    x0 = x1\n",
    "\n",
    "\n",
    "\n",
    "\n",
    "print('solution is %f'%x)\n",
    "    "
   ]
  },
  {
   "cell_type": "markdown",
   "metadata": {},
   "source": [
    "# Problem 3 (25 points):"
   ]
  },
  {
   "cell_type": "markdown",
   "metadata": {},
   "source": [
    "### Question 1\n",
    "Draw a Hollow Diamond Pattern with a cross shape in the middle using stars '*' using for or while loops. Pleas make the total number of rows equal to 20.\n",
    "```\n",
    "         *\n",
    "        ***\n",
    "       * * *\n",
    "      *  *  *\n",
    "     *   *   *\n",
    "    *    *    *\n",
    "   *     *     *\n",
    "  *      *      *\n",
    " *       *       *\n",
    "*******************\n",
    " *       *       *\n",
    "  *      *      *\n",
    "   *     *     *\n",
    "    *    *    *\n",
    "     *   *   *\n",
    "      *  *  *\n",
    "       * * *\n",
    "        ***\n",
    "         *\n",
    "```"
   ]
  },
  {
   "cell_type": "code",
   "execution_count": 37,
   "metadata": {},
   "outputs": [
    {
     "name": "stdout",
     "output_type": "stream",
     "text": [
      "         *\n",
      "        * *\n",
      "       *   *\n",
      "      *     *\n",
      "     *       *\n",
      "    *         *\n",
      "   *           *\n",
      "  *             *\n",
      " *               *\n",
      "*                 *\n",
      "********************\n",
      "*                 *\n",
      " *               *\n",
      "  *             *\n",
      "   *           *\n",
      "    *         *\n",
      "     *       *\n",
      "      *     *\n",
      "       *   *\n",
      "        * *\n",
      "         *\n"
     ]
    }
   ],
   "source": [
    "total_rows = 20\n",
    "\n",
    "\n",
    "middle_row = total_rows // 2\n",
    "\n",
    "\n",
    "for i in range(1, middle_row + 1):\n",
    "    spaces = \" \" * (middle_row - i)\n",
    "    if i == 1:\n",
    "        stars = \"*\"\n",
    "    else:\n",
    "        stars = \"*\" + \" \" * (2 * i - 3) + \"*\"\n",
    "    print(spaces + stars)\n",
    "\n",
    "\n",
    "middle_spaces = \" \" * (middle_row - 1)\n",
    "print(\"*\" * total_rows)\n",
    "\n",
    "\n",
    "for i in range(middle_row, 0, -1):\n",
    "    spaces = \" \" * (middle_row - i)\n",
    "    if i == 1:\n",
    "        stars = \"*\"\n",
    "    else:\n",
    "        stars = \"*\" + \" \" * (2 * i - 3) + \"*\"\n",
    "    print(spaces + stars)\n"
   ]
  },
  {
   "cell_type": "markdown",
   "metadata": {},
   "source": [
    "### Question 2\n",
    "Print the following pattern using only ***one loop block***\n",
    "Write a program to print the following start pattern using the for loop.\n",
    "\n",
    "The number of rows should be entered by the user.\n",
    "```\n",
    "* \n",
    "* * \n",
    "* * * \n",
    "* * * * \n",
    "* * * * * \n",
    "* * * * \n",
    "* * * \n",
    "* * \n",
    "*\n",
    "```\n",
    "        "
   ]
  },
  {
   "cell_type": "code",
   "execution_count": 38,
   "metadata": {},
   "outputs": [
    {
     "name": "stdout",
     "output_type": "stream",
     "text": [
      "Enter number of rows:9\n",
      "* \n",
      "* * \n",
      "* * * \n",
      "* * * * \n",
      "* * * * * \n",
      "* * * * \n",
      "* * * \n",
      "* * \n",
      "* \n"
     ]
    }
   ],
   "source": [
    "#Using only a single for loop\n",
    "num_rows = int(input(\"Enter number of rows:\"))\n",
    "for i in range(1, num_rows + 1):\n",
    "    if i <= num_rows // 2 + 1:\n",
    "        stars = \"* \" * i\n",
    "    else:\n",
    "        stars = \"* \" * (num_rows - i + 1)\n",
    "    print(stars)"
   ]
  },
  {
   "cell_type": "markdown",
   "metadata": {},
   "source": [
    "## Problem 5* (25 points):\n",
    "I have created a text file named \"GroupA.txt\" (attached) that lists all the teams and their earned points so far and where each team is from.\n",
    "```\n",
    "Team Points Country\t\n",
    "---------------------\n",
    "Barccelona 10 Spain\n",
    "Real Madrid 10 Spain\n",
    "Manchester City 9 England\n",
    "DC United 15 United States\n",
    "```\n",
    "Later on I looked to the results and I found the following and I created a text file named GroupA_results.txt:\n",
    "```\n",
    "Team Points Country\t\n",
    "---------------------\n",
    "Barccelona tie\n",
    "Real Madrid tie\n",
    "Manchester win\n",
    "DC United loose\n",
    "```\n",
    "The winner will get +3 points while the looser will get 0 points and a tie game will provide 1 point for both teams.\n",
    "\n",
    "Questions:\n",
    "1. Please write a code that reads and generate\n",
    "* From GroupA.txt: a dictionary datatype with keys are the club names and values are their associated points. And another dictionary datatype with keys are the club names and values are their associated country.\n",
    "* From GroupA_results.txt: a dictionary datatype with keys are the club names and values their results 'win', 'tie' or 'loose'\n",
    "2. Creat a new text file named GroupA_updated.txt in which you update the number of points based on the results (from GroupA_results.txt). Then using the updated dictionary, create a new text file with updated standings (just order the teams) and points. \n",
    "\n",
    "\n"
   ]
  },
  {
   "cell_type": "code",
   "execution_count": 9,
   "metadata": {},
   "outputs": [
    {
     "name": "stdout",
     "output_type": "stream",
     "text": [
      "{'Barccelona': 10, 'Real Madrid': 10, 'Manchester City': 9, 'DC United': 15}\n",
      "{'Barccelona': 'Spain', 'Real Madrid': 'Spain', 'Manchester City': 'England', 'DC United': 'United States'}\n",
      "{'Barccelona': 'tie', 'Real Madrid': 'tie', 'Manchester City': 'win', 'DC United': 'loose'}\n"
     ]
    }
   ],
   "source": [
    "#%% Question 1\n"
   ]
  },
  {
   "cell_type": "code",
   "execution_count": 43,
   "metadata": {},
   "outputs": [
    {
     "name": "stdout",
     "output_type": "stream",
     "text": [
      "Points Dictionary: {'Barccelona': 10, 'Real Madrid': 10, 'Manchester City': 9, 'DC United 15': 0}\n",
      "\n",
      "Country Dictionary: {'Barccelona': 'Spain', 'Real Madrid': 'Spain', 'Manchester City': 'England', 'DC United 15': 'States'}\n",
      "\n",
      "Results: {'Barccelona': 'tie', 'Real Madrid': 'tie', 'Manchester City': 'win', 'DC United': 'loose'}\n"
     ]
    }
   ],
   "source": [
    "# question 1\n",
    "points_d = {}\n",
    "country_d = {}\n",
    "\n",
    "with open(\"GroupA.txt\", \"r\") as file:\n",
    "    \n",
    "    next(file)\n",
    "   \n",
    "    for line in file:\n",
    "        line = line.strip()\n",
    "        if line:\n",
    "            data = line.split()\n",
    "            if len(data) >= 3:\n",
    "                team = \" \".join(data[:-2])\n",
    "                points_str = data[-2]\n",
    "                if points_str.isdigit():\n",
    "                    points = int(points_str)\n",
    "                else:\n",
    "                    points = 0  \n",
    "                country = data[-1]\n",
    "                \n",
    "                \n",
    "                points_d[team] = points\n",
    "                country_d[team] = country\n",
    "\n",
    "print(\"Points Dictionary:\", points_d)\n",
    "\n",
    "print(\"\\nCountry Dictionary:\", country_d)\n",
    "\n",
    "results_d = {}\n",
    "\n",
    "with open(\"GroupA_results.txt\", \"r\") as file:\n",
    "    \n",
    "    next(file)\n",
    "    \n",
    "    for line in file:\n",
    "        line = line.strip()\n",
    "        if line:\n",
    "            data = line.split()\n",
    "            if len(data) >= 2:\n",
    "                team = \" \".join(data[:-1])\n",
    "                result = data[-1]\n",
    "                \n",
    "                results_d[team] = result\n",
    "\n",
    "print(\"\\nResults:\", results_d)\n",
    "\n",
    "                "
   ]
  },
  {
   "cell_type": "code",
   "execution_count": 10,
   "metadata": {},
   "outputs": [
    {
     "name": "stdout",
     "output_type": "stream",
     "text": [
      "Team\tPoints\tCountry\n",
      "\n",
      "---------------------\n",
      "\n",
      "DC United\t15\tUnited States\n",
      "\n",
      "Manchester City\t12\tEngland\n",
      "\n",
      "Barccelona\t11\tSpain\n",
      "\n",
      "Real Madrid\t11\tSpain\n",
      "\n"
     ]
    }
   ],
   "source": [
    "#%% Question 2\n"
   ]
  },
  {
   "cell_type": "code",
   "execution_count": 50,
   "metadata": {},
   "outputs": [],
   "source": [
    "for team, result in results_d.items():\n",
    "    if result == \"win\":\n",
    "        points_d[team] += 3\n",
    "    elif result == \"tie\":\n",
    "        points_d[team] += 1\n",
    "\n",
    "\n",
    "sorted_teams = sorted(points_d.keys(), key=lambda x: (-points_d[x], x))\n",
    "\n",
    "with open(\"GroupA_updated.txt\", \"w\") as updated_file:\n",
    "    updated_file.write(\"Team Points Country\\n\")\n",
    "   \n",
    "    \n",
    "    for team in sorted_teams:\n",
    "        updated_file.write(f\"{team} {points_d[team]} {country_d[team]}\\n\")\n",
    "        print"
   ]
  },
  {
   "cell_type": "code",
   "execution_count": null,
   "metadata": {},
   "outputs": [],
   "source": []
  }
 ],
 "metadata": {
  "kernelspec": {
   "display_name": "Python 3 (ipykernel)",
   "language": "python",
   "name": "python3"
  },
  "language_info": {
   "codemirror_mode": {
    "name": "ipython",
    "version": 3
   },
   "file_extension": ".py",
   "mimetype": "text/x-python",
   "name": "python",
   "nbconvert_exporter": "python",
   "pygments_lexer": "ipython3",
   "version": "3.11.4"
  }
 },
 "nbformat": 4,
 "nbformat_minor": 4
}
