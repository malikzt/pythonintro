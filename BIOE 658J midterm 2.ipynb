{
 "cells": [
  {
   "cell_type": "markdown",
   "id": "e0f2a50a",
   "metadata": {},
   "source": [
    "# BIOE 658J Midterm 2 , November 7, 2023\n",
    "\n",
    "Name:Zannate Malik\n"
   ]
  },
  {
   "cell_type": "markdown",
   "id": "6f94ac1d",
   "metadata": {},
   "source": [
    "## Problem 1 (40 points):\n",
    "1. Write a Python expression that multiplies two 1D-ndarrays to obtain the following matrix:\n",
    "\n",
    "$$\\begin{pmatrix}\n",
    "1 & 2 & 3 & 4 & 5\\\\\n",
    "6 & 7 & 8 & 9 & 10\\\\\n",
    "11 & 12 & 13 & 14 & 15\\\\\n",
    "16 & 17 & 18 & 19 & 20\\\\\n",
    "21 & 22 & 23 & 24 & 25\\\\\n",
    "\\end{pmatrix}$$\n",
    "\n",
    "2. Write a Python expression to create a 1D-ndarray that contains all even numbers between 0 and 100 (inclusive), and a separate Python expression to create a 1D-ndarray that contains all odd numbers between 0 and 100 (inclusive).\n",
    "\n",
    "3. Write a Python function `matrix_operation(A, B)` that takes two 2D-ndarrays as input and performs the following operation:\n",
    "$$C = A^TBA$$\n",
    "where $A$ and $B$ are both 2D-ndarrays, and $C$ is the resulting 2D-ndarray.\n",
    "4. Using the `linalg.solve` function from numpy, solve the following system of linear equations:\n",
    "```\n",
    "x + y - z = 0\n",
    "7x + 7y + 10z = 128\n",
    "x + z = 4\n",
    "```\n",
    "5. Using the `linalg.eig` function from numpy, find the eigenvalues and eigenvectors of the following matrix:\n",
    "$$\\begin{pmatrix}\n",
    "5 & 2 & 1 \\\\\n",
    "2 & 3 & 1 \\\\\n",
    "1 & 1 & 2 \\\\\n",
    "\\end{pmatrix}$$\n",
    "\n",
    "\n",
    "\n",
    "make sure to run:\n",
    "```python\n",
    "import numpy as np\n",
    "```\n",
    "\n",
    "\n",
    "***Please solve each question in a seperate kernel.***\n",
    "\n",
    "\n",
    "***Always provide examples that demonstrate the results obtained from your code, either through printing or plotting.***\n"
   ]
  },
  {
   "cell_type": "code",
   "execution_count": 17,
   "id": "bb70f5b5",
   "metadata": {},
   "outputs": [
    {
     "name": "stdout",
     "output_type": "stream",
     "text": [
      "[[ 1.  2.  3.  4.  5.]\n",
      " [ 6.  7.  8.  9. 10.]\n",
      " [11. 12. 13. 14. 15.]\n",
      " [16. 17. 18. 19. 20.]\n",
      " [21. 22. 23. 24. 25.]]\n"
     ]
    }
   ],
   "source": [
    "# 1\n",
    "import numpy as np\n",
    "array1 = np.arange(1,26)\n",
    "array2 = np.ones(25)\n",
    "\n",
    "matrix = array1 * array2\n",
    "matrix = matrix.reshape(5,5)\n",
    "print(matrix)\n",
    "\n"
   ]
  },
  {
   "cell_type": "code",
   "execution_count": 20,
   "id": "2ecaf3b1",
   "metadata": {},
   "outputs": [
    {
     "name": "stdout",
     "output_type": "stream",
     "text": [
      "[[ 1.  2.  3.  4.  5.]\n",
      " [ 6.  7.  8.  9. 10.]\n",
      " [11. 12. 13. 14. 15.]\n",
      " [16. 17. 18. 19. 20.]\n",
      " [21. 22. 23. 24. 25.]]\n",
      "[  0   2   4   6   8  10  12  14  16  18  20  22  24  26  28  30  32  34\n",
      "  36  38  40  42  44  46  48  50  52  54  56  58  60  62  64  66  68  70\n",
      "  72  74  76  78  80  82  84  86  88  90  92  94  96  98 100]\n",
      "[ 1  3  5  7  9 11 13 15 17 19 21 23 25 27 29 31 33 35 37 39 41 43 45 47\n",
      " 49 51 53 55 57 59 61 63 65 67 69 71 73 75 77 79 81 83 85 87 89 91 93 95\n",
      " 97 99]\n"
     ]
    }
   ],
   "source": [
    "# 2\n",
    "import numpy as np\n",
    "array1 = np.arange(1,26)\n",
    "array2 = np.ones(25)\n",
    "\n",
    "matrix = array1 * array2\n",
    "matrix = matrix.reshape(5,5)\n",
    "print(matrix)\n",
    "\n",
    "import numpy as np\n",
    "even = np.arange(0, 101, 2)\n",
    "odd = np.arange (1, 101, 2)\n",
    "\n",
    "print(even)\n",
    "print(odd)"
   ]
  },
  {
   "cell_type": "code",
   "execution_count": 23,
   "id": "743a0e32",
   "metadata": {},
   "outputs": [
    {
     "name": "stdout",
     "output_type": "stream",
     "text": [
      "[[116 172]\n",
      " [170 252]]\n"
     ]
    }
   ],
   "source": [
    "# 3\n",
    "import numpy as np\n",
    "def matrix_operation(A,B):\n",
    "    if A.shape[1] == B.shape[0]:\n",
    "        transA = A.T\n",
    "        x = np.dot(np.dot(transA, B),A)\n",
    "        return x\n",
    "A = np.array([[1,2],[3,4]])\n",
    "B = np.array([[5,6],[7,8]])\n",
    "\n",
    "y = matrix_operation(A,B)\n",
    "print(y)"
   ]
  },
  {
   "cell_type": "code",
   "execution_count": 24,
   "id": "13dfc058",
   "metadata": {},
   "outputs": [
    {
     "name": "stdout",
     "output_type": "stream",
     "text": [
      "[-3.52941176 11.05882353  7.52941176]\n"
     ]
    }
   ],
   "source": [
    "# 4\n",
    "import numpy as np\n",
    "A = np.array([[1, 1, -1], [7, 7, 10], [1, 0, 1]])\n",
    "B = np.array ([0, 128, 4])\n",
    "\n",
    "x = np.linalg.solve(A,B)\n",
    "print(x)"
   ]
  },
  {
   "cell_type": "code",
   "execution_count": 12,
   "id": "00a4822b",
   "metadata": {},
   "outputs": [],
   "source": [
    "# 5\n"
   ]
  },
  {
   "cell_type": "markdown",
   "id": "e5f56a86",
   "metadata": {},
   "source": [
    "## Problem 2 (30 points):\n",
    "The following data shows the weekly sales for each product in a store for the past month. Your task is to analyze the data and find the top 5 selling products:\n",
    "\n",
    "| Product | Week 1 | Week 2 | Week 3 | Week 4 |\n",
    "|---------|--------|--------|--------|--------|\n",
    "| A       | 100    | 150    | 200    | 175    |\n",
    "| B       | 75     | 90     | 95     | 110    |\n",
    "| C       | 200    | 175    | 225    | 250    |\n",
    "| D       | 120    | 130    | 140    | 150    |\n",
    "| E       | 80     | 85     | 90     | 95     |\n",
    "\n",
    "\n",
    "Using the Pandas module, perform the following tasks:\n",
    "\n",
    "1. Create a DataFrame to store the data.\n",
    "\n",
    "2. Calculate the total sales for each product.\n",
    "\n",
    "3. Find the top 5 selling products.\n",
    "\n",
    "4. Sort the DataFrame by the total sales in descending order.\n",
    "\n",
    "5. Save the sorted DataFrame to a CSV file named \"sales_data_sorted.csv\".\n",
    "\n",
    "\n",
    "\n",
    "\n"
   ]
  },
  {
   "cell_type": "code",
   "execution_count": 13,
   "id": "d6873510",
   "metadata": {},
   "outputs": [],
   "source": [
    "import pandas as pd\n",
    "# 1: Create a DataFrame to store the data\n",
    "\n",
    "\n",
    "# 2: total sales for each product\n",
    "\n",
    "\n",
    "# 3: top 5 selling products\n",
    "\n",
    "\n",
    "# 4: Sort the DataFrame in descending order\n",
    "\n",
    "\n",
    "# 5: Save the sorted DataFrame to a CSV \n"
   ]
  },
  {
   "cell_type": "markdown",
   "id": "c52c87c3",
   "metadata": {},
   "source": [
    "## Problem 3 (30 points):\n",
    "You are asked to create a Python program that reads sales data from a CSV file, performs some calculations on the data using pandas, and then writes the results to a new CSV file. The program should be implemented using object-oriented programming principles.\n",
    "\n",
    "The CSV file \"sales_data.csv\" contains the following columns:\n",
    "\n",
    "* `Product`: the name of the product\n",
    "* `Quarter`: the quarter of the year (Q1, Q2, Q3, or Q4)\n",
    "* `Sales`: the number of units sold in that quarter\n",
    "\n",
    "You should create a `SalesData` class that has the following attributes:\n",
    "\n",
    "* `filename`: the name of the CSV file to read the data from\n",
    "\n",
    "The SalesData class should have the following methods:\n",
    "\n",
    "* `calculate_product_sales`: this method should calculate the total sales for each product and return the result as a pandas DataFrame.\n",
    "\n",
    "* `calculate_quarterly_sales`: this method should calculate the total sales for each quarter and return the result as a pandas DataFrame.\n",
    "\n",
    "* `calculate_product_quarterly_sales`: this method should calculate the total sales for each product in each quarter and return the result as a pandas DataFrame.\n",
    "\n",
    "* `write_data`: this method should write the results of the calculations to a new CSV file named \"sales_summary.csv\".\n",
    "\n",
    "The main program should create an instance of the `SalesData` class and call its methods to read the data, perform the calculations, and write the results to the output file.\n"
   ]
  },
  {
   "cell_type": "code",
   "execution_count": 14,
   "id": "8f43b2ea",
   "metadata": {},
   "outputs": [],
   "source": [
    "import pandas as pd\n",
    "\n"
   ]
  }
 ],
 "metadata": {
  "kernelspec": {
   "display_name": "Python 3 (ipykernel)",
   "language": "python",
   "name": "python3"
  },
  "language_info": {
   "codemirror_mode": {
    "name": "ipython",
    "version": 3
   },
   "file_extension": ".py",
   "mimetype": "text/x-python",
   "name": "python",
   "nbconvert_exporter": "python",
   "pygments_lexer": "ipython3",
   "version": "3.11.4"
  }
 },
 "nbformat": 4,
 "nbformat_minor": 5
}
