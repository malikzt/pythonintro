{
 "cells": [
  {
   "cell_type": "markdown",
   "metadata": {},
   "source": [
    "# Homework 3\n",
    "# Your name: Zannate Malik\n",
    "# Collaborators name:\n",
    "\n",
    "## Problem 1 (30points)\n",
    "\n",
    "### Q1: \n",
    "Create a function that takes 2 strings as inputs, s1 and s2 and then creates a new string s3 made of the upper case letters in s1 and s2.\n",
    "\n",
    "Example: s1 = 'nahCAa' and s2 = 'JaBuLe' therefore the expected output shoud be s3 = 'CABLE'\n",
    "Please run this example or another one so you can check your code"
   ]
  },
  {
   "cell_type": "code",
   "execution_count": 20,
   "metadata": {},
   "outputs": [
    {
     "name": "stdout",
     "output_type": "stream",
     "text": [
      "CABLE\n"
     ]
    }
   ],
   "source": [
    "s1 = 'nahCAa'\n",
    "s2 = 'BaLuEe'\n",
    "s3 = ''\n",
    "\n",
    "for char in s1 + s2:\n",
    "    if 'A'<= char <= 'Z':\n",
    "        s3 += char\n",
    "\n",
    "print(s3)\n"
   ]
  },
  {
   "cell_type": "code",
   "execution_count": 3,
   "metadata": {},
   "outputs": [
    {
     "name": "stdout",
     "output_type": "stream",
     "text": [
      "Hello\n"
     ]
    }
   ],
   "source": [
    "# hint 1:\n",
    "L = 'Hell'\n",
    "B = 'o'\n",
    "F = L + B\n",
    "print(F)\n",
    "\n",
    "# hint 2:\n",
    "# you might neet two for loops"
   ]
  },
  {
   "cell_type": "code",
   "execution_count": 22,
   "metadata": {},
   "outputs": [
    {
     "name": "stdout",
     "output_type": "stream",
     "text": [
      "CABLE\n"
     ]
    }
   ],
   "source": [
    "# write your code here:\n",
    "s1 = 'nahCAa' \n",
    "s2 = 'laBouLE' \n",
    "def find_my_word(s1,s2):\n",
    "    s3 =''\n",
    "    for char in s1+ s2:\n",
    "        if char.isupper():\n",
    "            s3 += char\n",
    "    return s3\n",
    "\n",
    "s3 = find_my_word(s1,s2)\n",
    "print(s3)"
   ]
  },
  {
   "cell_type": "markdown",
   "metadata": {},
   "source": [
    "### Q2:\n",
    "Write a code that asks user to enter his name and his year of birth. The code should check if was born before 2000 or not. If he/she was born before 2000, the code should print: \"welcome (name) you are (his age) years old\". if he/she was born after 2000, the code should print: \"(name), please go back you are (his age) years old\"\n",
    "<br>\n",
    "ex: your name: Farid\n",
    "<br>\n",
    "    year of birth: 1999\n",
    "<br>\n",
    "----> his age is 2021 - 1999 = 22 ---> \n",
    "<br>\n",
    "Output: welcome Farid you are 22 years old\n"
   ]
  },
  {
   "cell_type": "code",
   "execution_count": 26,
   "metadata": {},
   "outputs": [
    {
     "name": "stdout",
     "output_type": "stream",
     "text": [
      "enter your name: Farid\n",
      "enter your year of birth: 2002\n",
      "Farid, please go back you are 21 years old.\n"
     ]
    }
   ],
   "source": [
    "name = input(\"enter your name: \")\n",
    "birth_year = int(input(\"enter your year of birth: \"))\n",
    "\n",
    "current_year = 2023\n",
    "age = (current_year - birth_year)\n",
    "\n",
    "if birth_year < 2000:\n",
    "    print(f\"Welcome {name} you are {age} years old.\")\n",
    "else:\n",
    "    print(f\"{name}, please go back you are {age} years old.\")\n"
   ]
  },
  {
   "cell_type": "markdown",
   "metadata": {},
   "source": [
    "### Q3:\n",
    "Please use indexing inside the curly brackets so that you will decide the position instead of a default order.\n",
    "\n",
    "By filling inside the curly brackets, make sure each bracket is matched to the appropriate value.\n",
    "Please make sure to have only two numbers after the decimal points when float number will be displayed"
   ]
  },
  {
   "cell_type": "code",
   "execution_count": 36,
   "metadata": {},
   "outputs": [
    {
     "name": "stdout",
     "output_type": "stream",
     "text": [
      "team 1 scored 2 goals, while team 2 scored 3 goals and the ratio of 2/3 is 0.67.\n"
     ]
    }
   ],
   "source": [
    "#Type your code here.\n",
    "team1_score = 2\n",
    "team2_score = 3\n",
    "str_format = \"team 1 scored {2} goals, while team 2 scored {1} goals and the ratio of 2/3 is {0:.2f}.\"\n",
    "str = str_format.format(2/3, team2_score, team1_score)\n",
    "\n",
    "print(str)"
   ]
  },
  {
   "cell_type": "markdown",
   "metadata": {},
   "source": [
    "## Problem 2 (30 points)\n",
    "A good way when formating is to partialy seperate the sentence we want to create or display from the print function, for example:\n",
    "```\n",
    "price = 49\n",
    "txt = \"The price is {:.2f} dollars\"\n",
    "print(txt.format(price))\n",
    "```\n",
    "Try it yourself:"
   ]
  },
  {
   "cell_type": "code",
   "execution_count": 33,
   "metadata": {},
   "outputs": [
    {
     "name": "stdout",
     "output_type": "stream",
     "text": [
      "The price is 49.00 dollars\n"
     ]
    }
   ],
   "source": [
    "price = 49\n",
    "txt = \"The price is {:.2f} dollars\"\n",
    "print(txt.format(price))"
   ]
  },
  {
   "cell_type": "markdown",
   "metadata": {},
   "source": [
    "another example:\n",
    "<br>\n",
    "```\n",
    "quantity = 3\n",
    "itemno = 567\n",
    "price = 49.5666\n",
    "myorder = \"I want {} pieces of item number {} for {:.2f} dollars.\"\n",
    "print(myorder.format(quantity, itemno, price))\n",
    "```\n",
    "Try it yourself:"
   ]
  },
  {
   "cell_type": "code",
   "execution_count": 34,
   "metadata": {},
   "outputs": [
    {
     "name": "stdout",
     "output_type": "stream",
     "text": [
      "I want 3 pieces of item number 567 for 49.57 dollars.\n"
     ]
    }
   ],
   "source": [
    "quantity = 3\n",
    "itemno = 567\n",
    "price = 49.5666\n",
    "myorder = \"I want {} pieces of item number {} for {:.2f} dollars.\"\n",
    "print(myorder.format(quantity, itemno, price))"
   ]
  },
  {
   "cell_type": "markdown",
   "metadata": {},
   "source": [
    "### Q1:\n",
    "Rewrite the last code using the Formatting with Placeholders or an another word using the modulo % operator. The modulo % is also known as “string-formatting operator”."
   ]
  },
  {
   "cell_type": "code",
   "execution_count": 38,
   "metadata": {},
   "outputs": [
    {
     "name": "stdout",
     "output_type": "stream",
     "text": [
      "I want 3 pieces of item number 567 for 49.57 dollars.\n"
     ]
    }
   ],
   "source": [
    "quantity = 3\n",
    "itemno = 567\n",
    "price = 49.5666\n",
    "myorder = \"I want %d pieces of item number %d for %.2f dollars.\"%(quantity, itemno, price)\n",
    "print(myorder.format(quantity, itemno, price))"
   ]
  },
  {
   "cell_type": "markdown",
   "metadata": {},
   "source": [
    "### Q2:\n",
    "Rewrite the last code using the Formatting of \"Formatted String Literals (f-strings)\". This formatting style  have some advantages over the.format method where we can use outside variables directly into the string instead of passing them as arguments."
   ]
  },
  {
   "cell_type": "code",
   "execution_count": 19,
   "metadata": {},
   "outputs": [
    {
     "name": "stdout",
     "output_type": "stream",
     "text": [
      "pi = 3.14\n"
     ]
    }
   ],
   "source": [
    "# hint:\n",
    "x = 3.14159265\n",
    "print(f'pi = {x:.2f}')"
   ]
  },
  {
   "cell_type": "code",
   "execution_count": 41,
   "metadata": {},
   "outputs": [
    {
     "name": "stdout",
     "output_type": "stream",
     "text": [
      "I want 3 pieces of item number 567 for 49.57 dollars.\n"
     ]
    }
   ],
   "source": [
    "quantity = 3\n",
    "itemno = 567\n",
    "price = 49.5666\n",
    "myorder = f\"I want {quantity} pieces of item number {itemno} for {price:.2f} dollars.\"\n",
    "print(myorder.format(quantity, itemno, price))"
   ]
  },
  {
   "cell_type": "markdown",
   "metadata": {},
   "source": [
    "## Problem 3 (40 points):\n",
    "Last week I looked to the standing of the English Premier League and I found the following standing:\n",
    "![alt text here](image1.png)\n",
    "I have created a text file named \"league_last_week.txt\" (attached) that list all the teams and their earned points so far.\n",
    "```\n",
    "Teams\tPts\n",
    "Manchester City\t56\n",
    "Manchester United\t46\n",
    "Leicester City\t46\n",
    "Chelsea\t42\n",
    "West Ham United\t42\n",
    "Liverpool\t40\n",
    "Everton\t37\n",
    "Aston Villa\t36\n",
    "Tottenham Hotspur\t36\n",
    "Arsenal\t34\n",
    "Leeds United\t32\n",
    "Wolverhampton Wanderers\t30\n",
    "Southampton\t29\n",
    "Crystal Palace\t29\n",
    "Burnley\t27\n",
    "Brighton & Hove Albion\t26\n",
    "Newcastle United\t25\n",
    "Fulham\t19\n",
    "West Bromwich Albion\t13\n",
    "Sheffield United\t11\n",
    "```\n",
    "Using my logic I would like to see if Liverpool can go up with this standing and I list my expectations for the next week in a text file names \"results_this_week.txt\"(attached):\n",
    "```\n",
    "team\twin/loose\n",
    "Manchester City\twin\n",
    "Manchester United\twin\n",
    "Leicester City\twin\n",
    "Chelsea\twin\n",
    "West Ham United\twin\n",
    "Liverpool\twin\n",
    "Everton\twin\n",
    "Aston Villa\ttie\n",
    "Tottenham Hotspur\tloose\n",
    "Arsenal\tloose\n",
    "Leeds United\tloose\n",
    "Wolverhampton Wanderers\tloose\n",
    "Southampton\tloose\n",
    "Crystal Palace\tloose\n",
    "Burnley\tloose\n",
    "Brighton & Hove Albion\tloose\n",
    "Newcastle United\tloose\n",
    "Fulham\tloose\n",
    "West Bromwich Albion\ttie\n",
    "Sheffield United\twin\n",
    "```\n",
    "The winner will get +3 points while the looser will get 0 points and tie game will give 1 point for both teams.\n",
    "\n",
    "Questions:\n",
    "1. Please write a code that reads and display both attached files and make sure to track the team names and their points.\n",
    "2. Please write a code that creates a new file named \"league_next_week.txt\" that has the same content of \"league_last_week.txt\" but with updated points (you don't need to worry about updating the ranking, we will do that during the exam)\n",
    "3. Write a code that uses the updated results to tell (or disply using print) me that:\n",
    "\n",
    "```Liverpool will have ... points and West Ham United ... points``` \n"
   ]
  },
  {
   "cell_type": "code",
   "execution_count": null,
   "metadata": {},
   "outputs": [],
   "source": [
    "# hints (you might use and you might not, up to you and other methods are welcome):\n",
    "# hint 1\n",
    "strings = ['do', 're', 'mi']\n",
    "print(' '.join(strings))"
   ]
  },
  {
   "cell_type": "code",
   "execution_count": 55,
   "metadata": {},
   "outputs": [
    {
     "name": "stdout",
     "output_type": "stream",
     "text": [
      "Team Standings: \n",
      "Manchester City: 56 points\n",
      "Manchester United: 46 points\n",
      "Leicester City: 46 points\n",
      "Chelsea: 42 points\n",
      "West Ham United: 42 points\n",
      "Liverpool: 40 points\n",
      "Everton: 37 points\n",
      "Aston Villa: 36 points\n",
      "Tottenham Hotspur: 36 points\n",
      "Arsenal: 34 points\n",
      "Leeds United: 32 points\n",
      "Wolverhampton Wanderers: 30 points\n",
      "Southampton: 29 points\n",
      "Crystal Palace: 29 points\n",
      "Burnley: 27 points\n",
      "Brighton & Hove Albion: 26 points\n",
      "Newcastle United: 25 points\n",
      "Fulham: 19 points\n",
      "West Bromwich Albion: 13 points\n",
      "Sheffield United: 11 points\n",
      "\n",
      "Expected Results for the Next Week: \n",
      "Manchester City: win\n",
      "Manchester United: win\n",
      "Leicester City: win\n",
      "Chelsea: win\n",
      "West Ham United: win\n",
      "Liverpool: win\n",
      "Everton: win\n",
      "Aston Villa: tie\n",
      "Tottenham Hotspur: loose\n",
      "Arsenal: loose\n",
      "Leeds United: loose\n",
      "Wolverhampton Wanderers: loose\n",
      "Southampton: loose\n",
      "Crystal Palace: loose\n",
      "Burnley: loose\n",
      "Brighton & Hove Albion: loose\n",
      "Newcastle United: loose\n",
      "Fulham: loose\n",
      "West Bromwich Albion: tie\n",
      "Sheffield United: win\n"
     ]
    }
   ],
   "source": [
    "# question 1\n",
    "def read_team_standings(filename):\n",
    "    standings = {}\n",
    "    with open(filename, 'r')as file:\n",
    "        next(file)\n",
    "        for line in file:\n",
    "            split = line.strip().split('\\t')\n",
    "            team = split[0]\n",
    "            points = int(split[1])\n",
    "            standings[team]= int(points)\n",
    "    return standings\n",
    "\n",
    "def read_expected_results(filename):\n",
    "    results = {}\n",
    "    with open(filename, 'r') as file:\n",
    "        next(file)\n",
    "        for line in file:\n",
    "            split = line.strip().split('\\t')\n",
    "            team = split[0]\n",
    "            result = split[1]\n",
    "            results[team] = result\n",
    "    return results\n",
    "\n",
    "team_standings_file = (\"league_last_week.txt\")\n",
    "\n",
    "team_standings = read_team_standings(team_standings_file)\n",
    "print(\"Team Standings: \")\n",
    "\n",
    "for team, points in team_standings.items():\n",
    "    print(f\"{team}: {points} points\")\n",
    "    \n",
    "expected_results_file = (\"results_this_week.txt\")\n",
    "expected_results = read_expected_results(expected_results_file)\n",
    "print(\"\\nExpected Results for the Next Week: \")\n",
    "for team, result in expected_results.items():\n",
    "    print(f\"{team}: {result}\")\n",
    "    "
   ]
  },
  {
   "cell_type": "code",
   "execution_count": 57,
   "metadata": {},
   "outputs": [
    {
     "name": "stdout",
     "output_type": "stream",
     "text": [
      "updated Standings to 'league_next_week.txt': \n",
      "Teams\tPts\n",
      "Manchester City\t59\n",
      "Manchester United\t49\n",
      "Leicester City\t49\n",
      "Chelsea\t45\n",
      "West Ham United\t45\n",
      "Liverpool\t43\n",
      "Everton\t40\n",
      "Aston Villa\t37\n",
      "Tottenham Hotspur\t36\n",
      "Arsenal\t34\n",
      "Leeds United\t32\n",
      "Wolverhampton Wanderers\t30\n",
      "Southampton\t29\n",
      "Crystal Palace\t29\n",
      "Burnley\t27\n",
      "Brighton & Hove Albion\t26\n",
      "Newcastle United\t25\n",
      "Fulham\t19\n",
      "West Bromwich Albion\t14\n",
      "Sheffield United\t14\n"
     ]
    }
   ],
   "source": [
    "# question 2\n",
    "def read_team_standings(filename):\n",
    "    standings = {}\n",
    "    with open(filename, 'r')as file:\n",
    "        next(file)\n",
    "        for line in file:\n",
    "            team, points = line.strip().split('\\t')\n",
    "            standings[team] = int(points)\n",
    "    return standings\n",
    "\n",
    "def read_expected_results(filename):\n",
    "    expected_results = {}\n",
    "    with open(filename, 'r') as file:\n",
    "        next(file)\n",
    "        for line in file:\n",
    "            team, result = line.strip().split('\\t')\n",
    "            expected_results[team] = result\n",
    "    return expected_results\n",
    "\n",
    "current_standings = read_team_standings(\"league_last_week.txt\")\n",
    "\n",
    "expected_results = read_expected_results(\"results_this_week.txt\")\n",
    "\n",
    "for team, result in expected_results.items():\n",
    "    if result == 'win':\n",
    "        current_standings[team] += 3\n",
    "    elif result == 'tie':\n",
    "        current_standings[team] += 1\n",
    "\n",
    "with open(\"league_next_week.txt\",'w') as file:\n",
    "    file.write(\"Teams\\tPts\\n\")\n",
    "    for team, points in current_standings.items():\n",
    "        file.write(f\"{team}\\t{points}\\n\")\n",
    "    \n",
    "print(\"updated Standings to 'league_next_week.txt': \")\n",
    "print(\"Teams\\tPts\")\n",
    "for team, points in current_standings.items():\n",
    "    print(f\"{team}\\t{points}\")"
   ]
  },
  {
   "cell_type": "code",
   "execution_count": 59,
   "metadata": {},
   "outputs": [
    {
     "name": "stdout",
     "output_type": "stream",
     "text": [
      "Liverpool will have 43 points and West Ham United will have 45 points.\n"
     ]
    }
   ],
   "source": [
    "# question 3\n",
    "def team_points(team, standings):\n",
    "    return standings.get(team, \"Team not found\")\n",
    "    \n",
    "\n",
    "current_standings = read_team_standings(\"league_last_week.txt\")\n",
    "\n",
    "expected_results = read_expected_results(\"results_this_week.txt\")\n",
    "\n",
    "for team, result in expected_results.items():\n",
    "    if result == 'win':\n",
    "        current_standings[team] += 3\n",
    "    elif result == 'tie':\n",
    "        current_standings[team] += 1\n",
    "liverpool_points = team_points(\"Liverpool\", current_standings)\n",
    "west_ham_points = team_points(\"West Ham United\", current_standings)\n",
    "\n",
    "print(f'Liverpool will have {liverpool_points} points and West Ham United will have {west_ham_points} points.')\n"
   ]
  },
  {
   "cell_type": "code",
   "execution_count": null,
   "metadata": {},
   "outputs": [],
   "source": []
  }
 ],
 "metadata": {
  "kernelspec": {
   "display_name": "Python 3 (ipykernel)",
   "language": "python",
   "name": "python3"
  },
  "language_info": {
   "codemirror_mode": {
    "name": "ipython",
    "version": 3
   },
   "file_extension": ".py",
   "mimetype": "text/x-python",
   "name": "python",
   "nbconvert_exporter": "python",
   "pygments_lexer": "ipython3",
   "version": "3.11.4"
  }
 },
 "nbformat": 4,
 "nbformat_minor": 4
}
