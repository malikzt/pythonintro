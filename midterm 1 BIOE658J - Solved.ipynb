{
 "cells": [
  {
   "cell_type": "markdown",
   "metadata": {},
   "source": [
    "# Miterm 1 BIOE 658J\n",
    "# Your name:\n",
    "\n",
    "***Please submit the Jupyter notebook file.***\n",
    "\n",
    "\n",
    "## Problem 1 (25 points):\n",
    "For all question please make sure to print the final results using the `print` function."
   ]
  },
  {
   "cell_type": "markdown",
   "metadata": {},
   "source": [
    "### Question 1:  \n",
    "Please write a code that extract the numbers from a sentence."
   ]
  },
  {
   "cell_type": "markdown",
   "metadata": {},
   "source": [
    "answer here:"
   ]
  },
  {
   "cell_type": "code",
   "execution_count": 3,
   "metadata": {},
   "outputs": [
    {
     "name": "stdout",
     "output_type": "stream",
     "text": [
      "13\n"
     ]
    }
   ],
   "source": [
    "#----\n",
    "sentence = 'Farid is 1 of my 3 favorite names'\n",
    "\n",
    "st =''\n",
    "for char in sentence:\n",
    "    if char.isnumeric():\n",
    "        st+=char\n",
    "        \n",
    "\n",
    "print(st)"
   ]
  },
  {
   "cell_type": "markdown",
   "metadata": {},
   "source": [
    "### Question 2:\n",
    "Write a Python program to create a tuple with numbers, convert the created tuple to a list, and then print the second-to-last item in that list."
   ]
  },
  {
   "cell_type": "code",
   "execution_count": 1,
   "metadata": {},
   "outputs": [],
   "source": [
    "# code here please\n",
    "tuple1 = (4,3,2,1)\n",
    "list1 = list(tuple1)\n",
    "print(list1[-2])"
   ]
  },
  {
   "cell_type": "markdown",
   "metadata": {},
   "source": [
    "### Question 3:\n",
    "Create a Python program that fulfills the following requirements:\n",
    "\n",
    "1. Create a dictionary called student_grades with the following key-value pairs:\n",
    "```\n",
    "student_grades = {\n",
    "    \"Alex\": 90,\n",
    "    \"Brad\": 85,\n",
    "    \"Cara\": 92,\n",
    "    \"Dana\": 88,\n",
    "}\n",
    "\n",
    "```\n",
    "2. Write a function called update_grades that:\n",
    "\n",
    "* Takes a dictionary, a student name (string), and a grade (integer) as parameters.\n",
    "* If the student name exists in the dictionary, it should update the student’s grade.\n",
    "* If the student name does not exist in the dictionary, it should add the student name with the provided grade to the dictionary.\n",
    "* After updating/adding, it should print the updated dictionary.\n",
    "* Return the updated dictionary.\n",
    "\n",
    "3. Call this function to update the grade of “Brad” to 87.\n",
    "\n",
    "4. Call this function to add a new student “Eva” with a grade of 95.\n",
    "\n",
    "Finally, print the updated student_grades dictionary."
   ]
  },
  {
   "cell_type": "code",
   "execution_count": 4,
   "metadata": {},
   "outputs": [
    {
     "name": "stdout",
     "output_type": "stream",
     "text": [
      "Updated Grades: {'Alex': 90, 'Brad': 87, 'Cara': 92, 'Dana': 88}\n",
      "Updated Grades: {'Alex': 90, 'Brad': 87, 'Cara': 92, 'Dana': 88, 'Eva': 95}\n",
      "Final Student Grades: {'Alex': 90, 'Brad': 87, 'Cara': 92, 'Dana': 88, 'Eva': 95}\n"
     ]
    }
   ],
   "source": [
    "# code here please:\n",
    "student_grades = {\n",
    "    \"Alex\": 90,\n",
    "    \"Brad\": 85,\n",
    "    \"Cara\": 92,\n",
    "    \"Dana\": 88,\n",
    "}\n",
    "\n",
    "def update_grades(grades_dict, student_name, grade):\n",
    "    grades_dict[student_name] = grade\n",
    "    print(f\"Updated Grades: {grades_dict}\")\n",
    "    return grades_dict\n",
    "\n",
    "# Update grade of Brad\n",
    "student_grades = update_grades(student_grades, \"Brad\", 87)\n",
    "\n",
    "# Add a new student Eva\n",
    "student_grades = update_grades(student_grades, \"Eva\", 95)\n",
    "\n",
    "# Print the updated student_grades dictionary\n",
    "print(\"Final Student Grades:\", student_grades)\n",
    "\n"
   ]
  },
  {
   "cell_type": "markdown",
   "metadata": {},
   "source": [
    "### Question 4**:\n",
    "Please help me fix that code:"
   ]
  },
  {
   "cell_type": "code",
   "execution_count": 5,
   "metadata": {},
   "outputs": [
    {
     "ename": "ModuleNotFoundError",
     "evalue": "No module named 'math22'",
     "output_type": "error",
     "traceback": [
      "\u001b[1;31m---------------------------------------------------------------------------\u001b[0m",
      "\u001b[1;31mModuleNotFoundError\u001b[0m                       Traceback (most recent call last)",
      "Cell \u001b[1;32mIn[5], line 1\u001b[0m\n\u001b[1;32m----> 1\u001b[0m \u001b[38;5;28;01mimport\u001b[39;00m \u001b[38;5;21;01mmath22\u001b[39;00m \u001b[38;5;28;01mas\u001b[39;00m \u001b[38;5;21;01mm\u001b[39;00m\n\u001b[0;32m      2\u001b[0m list1 \u001b[38;5;241m=\u001b[39m [\u001b[38;5;241m1\u001b[39m,\u001b[38;5;241m2\u001b[39m,\u001b[38;5;241m3\u001b[39m]\n\u001b[0;32m      3\u001b[0m list2 \u001b[38;5;241m=\u001b[39m [\u001b[38;5;241m2\u001b[39m,\u001b[38;5;241m4\u001b[39m,\u001b[38;5;241m6\u001b[39m]\n",
      "\u001b[1;31mModuleNotFoundError\u001b[0m: No module named 'math22'"
     ]
    }
   ],
   "source": [
    "import math22 as m\n",
    "list1 = [1,2,3]\n",
    "list2 = [2,4,6]\n",
    "list3  = m.addlists(list1, list2)\n",
    "print(list3)"
   ]
  },
  {
   "cell_type": "markdown",
   "metadata": {},
   "source": [
    "## Problem 2 (25 points): Newton's method for finding roots, minmum and maximum values.\n",
    "\n",
    "### Question 1:\n",
    "This is an iterative method invented by Isaac Newton around 1664. However, this method is also sometimes called the Raphson method, since Raphson invented the same algorithm a few years after Newton, but his article was published much earlier.\n",
    "\n",
    "The task is as follows. Given the following equation:\n",
    "```\n",
    "f(x)=0\n",
    "```\n",
    "We want to solve the equation. More precisely, we want to find one of its roots (it is assumed that the root exists). It is assumed that f(x) is continuous and differentiable on an interval `[a,b]`.\n",
    "\n",
    "In our case, the input consits of a function f(x) and initial approximation and tolerance that should be compared to $\\lvert f(x) - 0 \\rvert$.\n",
    "The algorthm is as following:\n",
    "1. start with an initial guess\n",
    "2. update the values using the following eqaution: $ x_{i+1} = x_{i} - h\\frac{f(x_i)}{f'(x_i)} $\n",
    "3. calculate the bias  = $\\lvert f(x) - 0 \\rvert$\n",
    "4. stop when bias is equal or smaller to the tolerence and report the value.\n"
   ]
  },
  {
   "cell_type": "markdown",
   "metadata": {},
   "source": [
    "### Question 1:\n",
    "Define a Function that returns the value of CosPol(x), which is the cosine of a second degree polynomial function represented by the list of its coefficients.\n",
    "$CosPol(x) = cos(a_2x^2 + a1x + a0)$\n",
    "\n",
    "Test the function on CosPol(x) = Cos(x**2 - 4)"
   ]
  },
  {
   "cell_type": "code",
   "execution_count": null,
   "metadata": {},
   "outputs": [],
   "source": [
    "#%%\n",
    "import matplotlib.pyplot as plt\n",
    "import math\n",
    "import decimal\n",
    "\n",
    "# https://www.techbeamers.com/python-float-range/\n",
    "# this one is to generate list float data \n",
    "def float_range(start, stop, step):\n",
    "  while start < stop:\n",
    "    yield float(start)\n",
    "    start += decimal.Decimal(step)\n",
    "\n",
    "\n",
    "def  CosPol(coeff,x):\n",
    "    .\n",
    "    .\n",
    "    .\n",
    "    .\n",
    "\n",
    "\n",
    "X = list(float_range(1,2,0.01))\n",
    "coeff = [1, 0, -4] \n",
    "\n",
    "Y = []\n",
    "for x in X:\n",
    "    Y.append(CosPol(coeff,x))\n",
    "\n",
    "plt.plot(X, Y)\n",
    "plt.show()"
   ]
  },
  {
   "cell_type": "markdown",
   "metadata": {},
   "source": [
    "### Question 2:\n",
    "Define another function for the derivative of CosPol:"
   ]
  },
  {
   "cell_type": "code",
   "execution_count": null,
   "metadata": {},
   "outputs": [],
   "source": [
    "#%%\n",
    "def  dev_CosPol(coeff,x):\n",
    "    .\n",
    "    .\n",
    "    .\n",
    "\n",
    "\n",
    "\n",
    "dev_P = []\n",
    "for x in X:\n",
    "    dev_P.append(dev_CosPol(coeff,x))\n",
    "\n",
    "plt.plot(X, dev_P)\n",
    "plt.show()\n"
   ]
  },
  {
   "cell_type": "markdown",
   "metadata": {},
   "source": [
    "### Question 3:\n",
    "Use the two functions to implemet the Newton's method to find the root of $CosPol(x) = Cos(x^2 - 4)$ between [1 2]. Use an intial guess of 1 and tolerence of 0.01 and regularization fator h = 0.1."
   ]
  },
  {
   "cell_type": "code",
   "execution_count": null,
   "metadata": {},
   "outputs": [],
   "source": [
    "#%%\n",
    "bias  =  1\n",
    "tol   =  0.01\n",
    "x0    = 1 #<-- this is the initial guess\n",
    "\n",
    "while bias > tol\n",
    "    ...\n",
    "    ...\n",
    "    ...\n",
    "    ...\n",
    "\n",
    "\n",
    "\n",
    "print('solution is %f'%x)\n",
    "    "
   ]
  },
  {
   "cell_type": "code",
   "execution_count": 1,
   "metadata": {},
   "outputs": [
    {
     "data": {
      "image/png": "[encoded data removed]",
      "text/plain": [
       "<Figure size 640x480 with 1 Axes>"
      ]
     },
     "metadata": {},
     "output_type": "display_data"
    },
    {
     "data": {
      "image/png": "[encoded data removed]",
      "text/plain": [
       "<Figure size 640x480 with 1 Axes>"
      ]
     },
     "metadata": {},
     "output_type": "display_data"
    },
    {
     "name": "stdout",
     "output_type": "stream",
     "text": [
      "1.05 0.9703570082069147\n",
      "1.0976190476190477 0.940614557802601\n",
      "1.1431721929552734 0.9011265832877989\n",
      "1.1869101357674952 0.8523424058504401\n",
      "1.229036324173215 0.7947972313274814\n",
      "1.269718604278838 0.7291084304273856\n",
      "1.3090974082370572 0.6559704635569751\n",
      "1.347291663061329 0.5761486922634494\n",
      "1.384403152259139 0.4904722554077403\n",
      "1.4205197992910439 0.39982615459302007\n",
      "1.4557181823230538 0.30514267570193343\n",
      "1.4900654897944832 0.2073922642637957\n",
      "1.5236210619102404 0.107573967807323\n",
      "1.5564376206005701 0.006705556131345001\n",
      "solution is 1.556438\n"
     ]
    }
   ],
   "source": [
    "# -*- coding: utf-8 -*-\n",
    "\"\"\"\n",
    "@author: bahaa\n",
    "\"\"\"\n",
    "#%%\n",
    "import matplotlib.pyplot as plt\n",
    "import math\n",
    "import decimal\n",
    "\n",
    "# https://www.techbeamers.com/python-float-range/\n",
    "def float_range(start, stop, step):\n",
    "  while start < stop:\n",
    "    yield float(start)\n",
    "    start += decimal.Decimal(step)\n",
    "\n",
    "\n",
    "def  CosPol(coeff,x):\n",
    "    a0 = coeff[0]\n",
    "    a1 = coeff[1]\n",
    "    a2 = coeff[2]\n",
    "    return math.cos(a0*x**2 + a1*x + a2)\n",
    "\n",
    "\n",
    "X = list(float_range(1,2,0.01))\n",
    "coeff = [1, 0, -4] \n",
    "\n",
    "Y = []\n",
    "for x in X:\n",
    "    Y.append(CosPol(coeff,x))\n",
    "\n",
    "plt.plot(X, Y)\n",
    "plt.show()\n",
    "\n",
    "#%%\n",
    "def  dev_CosPol(coeff,x):\n",
    "    a1 = 2*coeff[0]\n",
    "    a2 = coeff[1]\n",
    "    return -(a1*x + a2)*CosPol(coeff,x)\n",
    "\n",
    "\n",
    "\n",
    "dev_P = []\n",
    "for x in X:\n",
    "    dev_P.append(dev_CosPol(coeff,x))\n",
    "\n",
    "plt.plot(X, dev_P)\n",
    "plt.show()\n",
    "\n",
    "\n",
    "#%%\n",
    "bias  =  1\n",
    "tol   =  0.01\n",
    "x0    = 1\n",
    "\n",
    "while bias > tol:\n",
    "    x  = x0 - 0.1*CosPol(coeff, x0)/dev_CosPol(coeff, x0)\n",
    "    x0 = x\n",
    "    bias = abs(CosPol(coeff, x0))\n",
    "    print(x,bias)\n",
    "\n",
    "print('solution is %f'%x)\n",
    "    "
   ]
  },
  {
   "cell_type": "markdown",
   "metadata": {},
   "source": [
    "# Problem 3 (25 points):"
   ]
  },
  {
   "cell_type": "markdown",
   "metadata": {},
   "source": [
    "### Question 1\n",
    "Draw a Hollow Diamond Pattern with a cross shape in the middle using stars '*' using for or while loops. Pleas make the total number of rows equal to 20.\n",
    "```\n",
    "         *\n",
    "        ***\n",
    "       * * *\n",
    "      *  *  *\n",
    "     *   *   *\n",
    "    *    *    *\n",
    "   *     *     *\n",
    "  *      *      *\n",
    " *       *       *\n",
    "*******************\n",
    " *       *       *\n",
    "  *      *      *\n",
    "   *     *     *\n",
    "    *    *    *\n",
    "     *   *   *\n",
    "      *  *  *\n",
    "       * * *\n",
    "        ***\n",
    "         *\n",
    "```"
   ]
  },
  {
   "cell_type": "code",
   "execution_count": 6,
   "metadata": {},
   "outputs": [
    {
     "name": "stdout",
     "output_type": "stream",
     "text": [
      "         *\n",
      "        ***\n",
      "       * * *\n",
      "      *  *  *\n",
      "     *   *   *\n",
      "    *    *    *\n",
      "   *     *     *\n",
      "  *      *      *\n",
      " *       *       *\n",
      "*******************\n",
      " *       *       *\n",
      "  *      *      *\n",
      "   *     *     *\n",
      "    *    *    *\n",
      "     *   *   *\n",
      "      *  *  *\n",
      "       * * *\n",
      "        ***\n",
      "         *\n"
     ]
    }
   ],
   "source": [
    "# Hollow Diamond pattern\n",
    "\n",
    "# Reading number of row\n",
    "row = 10\n",
    "\n",
    "# Upper part of hollow diamond\n",
    "for i in range(1, row+1):\n",
    "    for j in range(1,row-i+1):\n",
    "        print(\" \", end=\"\")\n",
    "    for j in range(1, 2*i):\n",
    "        if j==1 or j==2*i-1 or j == i or i==row:\n",
    "            print(\"*\", end=\"\")\n",
    "        else:\n",
    "            print(\" \", end=\"\")\n",
    "    print()\n",
    "\n",
    "# Lower part of hollow diamond\n",
    "for i in range(row-1,0, -1):\n",
    "    for j in range(1,row-i+1):\n",
    "        print(\" \", end=\"\")\n",
    "    for j in range(1, 2*i):\n",
    "        if j==1 or j==2*i-1 or j == i:\n",
    "            print(\"*\", end=\"\")\n",
    "        else:\n",
    "            print(\" \", end=\"\")\n",
    "    print()"
   ]
  },
  {
   "cell_type": "markdown",
   "metadata": {},
   "source": [
    "### Question 2\n",
    "Print the following pattern using only ***one loop block***\n",
    "Write a program to print the following start pattern using the for loop.\n",
    "\n",
    "The number of rows should be entered by the user.\n",
    "```\n",
    "* \n",
    "* * \n",
    "* * * \n",
    "* * * * \n",
    "* * * * * \n",
    "* * * * \n",
    "* * * \n",
    "* * \n",
    "*\n",
    "```\n",
    "        "
   ]
  },
  {
   "cell_type": "code",
   "execution_count": null,
   "metadata": {},
   "outputs": [],
   "source": [
    "#Using only a single for loop\n",
    "i=2\n",
    "for r in range(1,10):\n",
    "    if r<=5:\n",
    "        print(r*\"* \",end=\" \")\n",
    "    else:\n",
    "        print((r-i)*'* ',end=\" \")\n",
    "        i+=2\n",
    "    print(\"\")"
   ]
  },
  {
   "cell_type": "markdown",
   "metadata": {},
   "source": [
    "## Problem 5* (25 points):\n",
    "I have created a text file named \"GroupA.txt\" (attached) that lists all the teams and their earned points so far and where each team is from.\n",
    "```\n",
    "Team Points Country\t\n",
    "---------------------\n",
    "Barccelona 10 Spain\n",
    "Real Madrid 10 Spain\n",
    "Manchester City 9 England\n",
    "DC United 15 United States\n",
    "```\n",
    "Later on I looked to the results and I found the following and I created a text file named GroupA_results.txt:\n",
    "```\n",
    "Team Points Country\t\n",
    "---------------------\n",
    "Barccelona tie\n",
    "Real Madrid tie\n",
    "Manchester win\n",
    "DC United loose\n",
    "```\n",
    "The winner will get +3 points while the looser will get 0 points and a tie game will provide 1 point for both teams.\n",
    "\n",
    "Questions:\n",
    "1. Please write a code that reads and generate\n",
    "* From GroupA.txt: a dictionary datatype with keys are the club names and values are their associated points. And another dictionary datatype with keys are the club names and values are their associated country.\n",
    "* From GroupA_results.txt: a dictionary datatype with keys are the club names and values their results 'win', 'tie' or 'loose'\n",
    "2. Creat a new text file named GroupA_updated.txt in which you update the number of points based on the results (from GroupA_results.txt). Then using the updated dictionary, create a new text file with updated standings (just order the teams) and points. \n",
    "\n",
    "\n"
   ]
  },
  {
   "cell_type": "code",
   "execution_count": 9,
   "metadata": {},
   "outputs": [
    {
     "name": "stdout",
     "output_type": "stream",
     "text": [
      "{'Barccelona': 10, 'Real Madrid': 10, 'Manchester City': 9, 'DC United': 15}\n",
      "{'Barccelona': 'Spain', 'Real Madrid': 'Spain', 'Manchester City': 'England', 'DC United': 'United States'}\n",
      "{'Barccelona': 'tie', 'Real Madrid': 'tie', 'Manchester City': 'win', 'DC United': 'loose'}\n"
     ]
    }
   ],
   "source": [
    "#%% Question 1\n",
    "teams = []\n",
    "points = []\n",
    "ctr = []\n",
    "wins = []\n",
    "dic_league = {}\n",
    "dic_ctr = {}\n",
    "dic_wins = {}\n",
    "\n",
    "with open(\"GroupA.txt\", \"r\") as last: \n",
    "    data = last.readlines() \n",
    "    for line in data[2:len(data)]: \n",
    "        info = line.split()\n",
    "        for i in range(len(info)):\n",
    "            if info[i].isnumeric():\n",
    "                index = i\n",
    "        points.append(info[index])\n",
    "        teams.append(' '.join(info[:index]))\n",
    "        ctr.append(' '.join(info[index+1:len(info)]))\n",
    "#Creating dictionaries with teams&points and teams&countries\n",
    "    for i in range(len(teams)):\n",
    "        dic_league[teams[i]] = int(points[i])\n",
    "        dic_ctr[teams[i]] = ctr[i]\n",
    "    print(dic_league)\n",
    "    print(dic_ctr)\n",
    "with open(\"GroupA_results.txt\",\"r\") as results:\n",
    "    data1 = results.readlines()\n",
    "    for line in data1[2:len(data1)]:\n",
    "        info1 = line.split()\n",
    "        wins.append(info1[-1])\n",
    "#Creating dictionary with teams & wins           \n",
    "    for i in range(len(teams)):\n",
    "        dic_wins[teams[i]] = wins[i]\n",
    "    print(dic_wins)\n"
   ]
  },
  {
   "cell_type": "code",
   "execution_count": 10,
   "metadata": {},
   "outputs": [
    {
     "name": "stdout",
     "output_type": "stream",
     "text": [
      "Team\tPoints\tCountry\n",
      "\n",
      "---------------------\n",
      "\n",
      "DC United\t15\tUnited States\n",
      "\n",
      "Manchester City\t12\tEngland\n",
      "\n",
      "Barccelona\t11\tSpain\n",
      "\n",
      "Real Madrid\t11\tSpain\n",
      "\n"
     ]
    }
   ],
   "source": [
    "#%% Question 2\n",
    "#%% Question 2\n",
    "#Updating values\n",
    "for i in range(len(teams)):\n",
    "    if wins[i] == 'win':\n",
    "        points[i] = int(points[i]) + 3\n",
    "    elif wins[i] == 'tie':\n",
    "        points[i] = int(points[i]) + 1\n",
    "    else:\n",
    "        points[i] = int(points[i])\n",
    "        \n",
    "#Selection sorting by points\n",
    "for i in range(len(points)):\n",
    "    min_idx = i\n",
    "    for j in range(i + 1, len(points)):\n",
    "        if points[j]>points[min_idx]:\n",
    "            max_idx = j\n",
    "    points[i],points[max_idx]=points[max_idx],points[i]\n",
    "    teams[i],teams[max_idx]=teams[max_idx],teams[i]\n",
    "    ctr[i],ctr[max_idx]=ctr[max_idx],ctr[i]\n",
    "    \n",
    "#Create new file with updated values\n",
    "file = open('GroupA_updated.txt','w')\n",
    "file.write(\"Team\\tPoints\\tCountry\\n\")\n",
    "file.write(\"---------------------\\n\")\n",
    "for i in range(len(teams)):\n",
    "    file.write(teams[i])\n",
    "    file.write('\\t')\n",
    "    file.write(str(points[i]))\n",
    "    file.write('\\t')\n",
    "    file.write(ctr[i])\n",
    "    file.write('\\n')\n",
    "file.close()\n",
    "with open(\"GroupA_updated.txt\", \"r\") as updated: \n",
    "    data2 = updated.readlines() \n",
    "    for line in data2[0:len(data2)]: \n",
    "        print(line)\n"
   ]
  },
  {
   "cell_type": "code",
   "execution_count": null,
   "metadata": {},
   "outputs": [],
   "source": []
  }
 ],
 "metadata": {
  "kernelspec": {
   "display_name": "Python 3 (ipykernel)",
   "language": "python",
   "name": "python3"
  },
  "language_info": {
   "codemirror_mode": {
    "name": "ipython",
    "version": 3
   },
   "file_extension": ".py",
   "mimetype": "text/x-python",
   "name": "python",
   "nbconvert_exporter": "python",
   "pygments_lexer": "ipython3",
   "version": "3.11.4"
  }
 },
 "nbformat": 4,
 "nbformat_minor": 4
}
