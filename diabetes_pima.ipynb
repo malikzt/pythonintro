{
  "cells": [
    {
      "cell_type": "code",
      "source": [
        "from google.colab import drive\n",
        "drive.mount('/content/drive')\n",
        "PATH = 'drive/MyDrive/enpm808w-datasets/'"
      ],
      "metadata": {
        "colab": {
          "base_uri": "https://localhost:8080/"
        },
        "id": "A3AxEusDHMm9",
        "outputId": "0acb89c4-392a-4dd4-e21d-6ff88e478ffa"
      },
      "id": "A3AxEusDHMm9",
      "execution_count": 14,
      "outputs": [
        {
          "output_type": "stream",
          "name": "stdout",
          "text": [
            "Drive already mounted at /content/drive; to attempt to forcibly remount, call drive.mount(\"/content/drive\", force_remount=True).\n"
          ]
        }
      ]
    },
    {
      "cell_type": "code",
      "execution_count": 15,
      "id": "eb50860f-fdb9-4ad7-959b-61bc1836e4a4",
      "metadata": {
        "id": "eb50860f-fdb9-4ad7-959b-61bc1836e4a4",
        "outputId": "0c434c93-b8f3-4ae5-a4e4-1363d52b0371",
        "colab": {
          "base_uri": "https://localhost:8080/"
        }
      },
      "outputs": [
        {
          "output_type": "stream",
          "name": "stdout",
          "text": [
            "<class 'pandas.core.frame.DataFrame'>\n",
            "RangeIndex: 768 entries, 0 to 767\n",
            "Data columns (total 9 columns):\n",
            " #   Column             Non-Null Count  Dtype  \n",
            "---  ------             --------------  -----  \n",
            " 0   pregnancies        768 non-null    int64  \n",
            " 1   glucose            768 non-null    int64  \n",
            " 2   blood_pressure     768 non-null    int64  \n",
            " 3   skin_thickness     768 non-null    int64  \n",
            " 4   insulin            768 non-null    int64  \n",
            " 5   bmi                768 non-null    float64\n",
            " 6   diabetes_pedigree  768 non-null    float64\n",
            " 7   age                768 non-null    int64  \n",
            " 8   outcome            768 non-null    int64  \n",
            "dtypes: float64(2), int64(7)\n",
            "memory usage: 54.1 KB\n",
            "<class 'pandas.core.frame.DataFrame'>\n",
            "Int64Index: 268 entries, 0 to 766\n",
            "Data columns (total 9 columns):\n",
            " #   Column             Non-Null Count  Dtype  \n",
            "---  ------             --------------  -----  \n",
            " 0   pregnancies        268 non-null    int64  \n",
            " 1   glucose            268 non-null    int64  \n",
            " 2   blood_pressure     268 non-null    int64  \n",
            " 3   skin_thickness     268 non-null    int64  \n",
            " 4   insulin            268 non-null    int64  \n",
            " 5   bmi                268 non-null    float64\n",
            " 6   diabetes_pedigree  268 non-null    float64\n",
            " 7   age                268 non-null    int64  \n",
            " 8   outcome            268 non-null    int64  \n",
            "dtypes: float64(2), int64(7)\n",
            "memory usage: 20.9 KB\n",
            "<class 'pandas.core.frame.DataFrame'>\n",
            "Int64Index: 500 entries, 1 to 767\n",
            "Data columns (total 9 columns):\n",
            " #   Column             Non-Null Count  Dtype  \n",
            "---  ------             --------------  -----  \n",
            " 0   pregnancies        500 non-null    int64  \n",
            " 1   glucose            500 non-null    int64  \n",
            " 2   blood_pressure     500 non-null    int64  \n",
            " 3   skin_thickness     500 non-null    int64  \n",
            " 4   insulin            500 non-null    int64  \n",
            " 5   bmi                500 non-null    float64\n",
            " 6   diabetes_pedigree  500 non-null    float64\n",
            " 7   age                500 non-null    int64  \n",
            " 8   outcome            500 non-null    int64  \n",
            "dtypes: float64(2), int64(7)\n",
            "memory usage: 39.1 KB\n"
          ]
        }
      ],
      "source": [
        "import math\n",
        "import pandas as pd\n",
        "import numpy as np\n",
        "from scipy import stats\n",
        "import matplotlib.pyplot as plt\n",
        "\n",
        "# Read in the data\n",
        "\n",
        "diabetes = pd.read_csv(PATH + \"pima_indians_diabetes.csv\")\n",
        "\n",
        "# Get to know the data a bit\n",
        "\n",
        "diabetes.info()\n",
        "\n",
        "diabetes.head()\n",
        "\n",
        "# Split up the dataset\n",
        "diabetes_yes = diabetes[(diabetes['outcome'] == 1)]\n",
        "diabetes_yes.info()\n",
        "\n",
        "diabetes_no = diabetes[(diabetes['outcome'] == 0)]\n",
        "diabetes_no.info()"
      ]
    },
    {
      "cell_type": "code",
      "source": [
        "!wget https://tf-assets-prod.s3.amazonaws.com/tf-curric/data-science/pima_indians_diabetes.csv --no-check-certificate"
      ],
      "metadata": {
        "colab": {
          "base_uri": "https://localhost:8080/"
        },
        "id": "s6DFo_sHGaIp",
        "outputId": "7115567c-76a9-490b-b90e-d80a8cec2c23"
      },
      "id": "s6DFo_sHGaIp",
      "execution_count": 4,
      "outputs": [
        {
          "output_type": "stream",
          "name": "stdout",
          "text": [
            "--2022-09-20 13:35:24--  https://tf-assets-prod.s3.amazonaws.com/tf-curric/data-science/pima_indians_diabetes.csv\n",
            "Resolving tf-assets-prod.s3.amazonaws.com (tf-assets-prod.s3.amazonaws.com)... 52.217.45.220\n",
            "Connecting to tf-assets-prod.s3.amazonaws.com (tf-assets-prod.s3.amazonaws.com)|52.217.45.220|:443... connected.\n",
            "HTTP request sent, awaiting response... 200 OK\n",
            "Length: 23870 (23K) [text/csv]\n",
            "Saving to: ‘pima_indians_diabetes.csv’\n",
            "\n",
            "\r          pima_indi   0%[                    ]       0  --.-KB/s               \rpima_indians_diabet 100%[===================>]  23.31K  --.-KB/s    in 0.001s  \n",
            "\n",
            "2022-09-20 13:35:24 (21.3 MB/s) - ‘pima_indians_diabetes.csv’ saved [23870/23870]\n",
            "\n"
          ]
        }
      ]
    },
    {
      "cell_type": "code",
      "source": [
        "!ls drive/MyDrive/enpm808w-datasets"
      ],
      "metadata": {
        "colab": {
          "base_uri": "https://localhost:8080/"
        },
        "id": "T68qzqXpHYSs",
        "outputId": "fdebfba1-a417-4885-b173-5dc0e6bcd62c"
      },
      "id": "T68qzqXpHYSs",
      "execution_count": 13,
      "outputs": [
        {
          "output_type": "stream",
          "name": "stdout",
          "text": [
            "all_nyt.zip\n",
            "avocado-updated-2020.csv\n",
            "BeerDataScienceProject.zip\n",
            "bikeshare\n",
            "birthwt.csv\n",
            "corpus.txt\n",
            "datasets_7001_312628_acs2015_county_data.csv\n",
            "financial_sentimental_analysis_all-data.csv\n",
            "homeprices.csv\n",
            "housing\n",
            "hw3-data\n",
            "nyt1_sample.csv\n",
            "pima_indians_diabetes.csv\n"
          ]
        }
      ]
    },
    {
      "cell_type": "code",
      "source": [
        "!mv pima_indians_diabetes.csv drive/MyDrive/enpm808w-datasets/"
      ],
      "metadata": {
        "id": "yI2IBELfHloR"
      },
      "id": "yI2IBELfHloR",
      "execution_count": 12,
      "outputs": []
    },
    {
      "cell_type": "markdown",
      "id": "17e936fd-6dec-43e4-8cc6-327c6c1fa970",
      "metadata": {
        "id": "17e936fd-6dec-43e4-8cc6-327c6c1fa970"
      },
      "source": [
        "### Do patients with diabetes have higher insulin levels on average than patients without diabetes?\n"
      ]
    },
    {
      "cell_type": "markdown",
      "id": "efafc922-e7f1-4f32-b76f-5976b9e32c1d",
      "metadata": {
        "id": "efafc922-e7f1-4f32-b76f-5976b9e32c1d"
      },
      "source": [
        "### Before running the t-test, check whether the samples are normally distributed. You'll do that both visually and through descriptive statistics.\n",
        "\n",
        "### Using matplotlib.pyplot, you can plot a histogram of each sample. Setting alpha = .5 will reduce the transparency of each histogram so that you can more easily see overlapping areas."
      ]
    },
    {
      "cell_type": "code",
      "execution_count": null,
      "id": "adb2e3d8-3566-41ce-881f-4708c71168e8",
      "metadata": {
        "id": "adb2e3d8-3566-41ce-881f-4708c71168e8",
        "outputId": "c498c0c2-d4f7-40af-da59-ad24525538c8"
      },
      "outputs": [
        {
          "data": {
            "image/png": "[encoded data removed]",
            "text/plain": [
              "<Figure size 432x288 with 1 Axes>"
            ]
          },
          "metadata": {
            "needs_background": "light"
          },
          "output_type": "display_data"
        }
      ],
      "source": [
        "plt.hist(diabetes_yes['insulin'], alpha = .5, label = \"insulin yes\")\n",
        "plt.hist(diabetes_no['insulin'], alpha = .5, label = \"insulin no\")\n",
        "plt.legend(loc=\"upper right\")\n",
        "plt.show()"
      ]
    },
    {
      "cell_type": "markdown",
      "id": "a7ce959b-d58e-456e-bae4-97bf415f735b",
      "metadata": {
        "id": "a7ce959b-d58e-456e-bae4-97bf415f735b"
      },
      "source": [
        "### clearly not gaussian shape"
      ]
    },
    {
      "cell_type": "code",
      "execution_count": null,
      "id": "a78a0905-fcf0-4852-a718-e920143b8953",
      "metadata": {
        "id": "a78a0905-fcf0-4852-a718-e920143b8953",
        "outputId": "67c59e50-e69f-4c88-eabf-3a031b7e5804"
      },
      "outputs": [
        {
          "name": "stdout",
          "output_type": "stream",
          "text": [
            "DescribeResult(nobs=268, minmax=(0, 846), mean=100.33582089552239, variance=19234.673318799265, skewness=1.8334954476833978, kurtosis=4.257259307676043)\n",
            "DescribeResult(nobs=500, minmax=(0, 744), mean=68.792, variance=9774.345426853706, skewness=2.4912385539481763, kurtosis=9.35149885142989)\n"
          ]
        }
      ],
      "source": [
        "print(stats.describe(diabetes_yes['insulin']))\n",
        "print(stats.describe(diabetes_no['insulin']))"
      ]
    },
    {
      "cell_type": "markdown",
      "id": "2deabd92-29bb-4d4b-9242-5eef1bb258db",
      "metadata": {
        "id": "2deabd92-29bb-4d4b-9242-5eef1bb258db"
      },
      "source": [
        "### as you can see, kurtosis is high"
      ]
    },
    {
      "cell_type": "code",
      "execution_count": null,
      "id": "81036a19-ef55-49e2-bc1c-a31f61ba88de",
      "metadata": {
        "id": "81036a19-ef55-49e2-bc1c-a31f61ba88de",
        "outputId": "cce293bf-fe94-4194-8380-a13eeff0383d"
      },
      "outputs": [
        {
          "name": "stdout",
          "output_type": "stream",
          "text": [
            "ShapiroResult(statistic=0.7462016344070435, pvalue=5.297208097239903e-20)\n",
            "ShapiroResult(statistic=0.7162044048309326, pvalue=3.022012305441983e-28)\n"
          ]
        }
      ],
      "source": [
        "print(stats.shapiro(diabetes_yes['insulin']))\n",
        "print(stats.shapiro(diabetes_no['insulin']))"
      ]
    },
    {
      "cell_type": "markdown",
      "id": "40e7f537-ef27-488f-bd94-a1b567119998",
      "metadata": {
        "id": "40e7f537-ef27-488f-bd94-a1b567119998"
      },
      "source": [
        "### we confirm further that pvalue for the shapiro-wilks tests is not less than .05, so reject the hypothesis that the distributions are normal"
      ]
    },
    {
      "cell_type": "code",
      "execution_count": null,
      "id": "84c93b8c-8f6e-474d-921c-b8e97a94f357",
      "metadata": {
        "id": "84c93b8c-8f6e-474d-921c-b8e97a94f357",
        "outputId": "1b96c3b0-94b6-4c9b-cbd9-64b027e3f9f3"
      },
      "outputs": [
        {
          "data": {
            "text/plain": [
              "KruskalResult(statistic=3.388974093174831, pvalue=0.06563377481405927)"
            ]
          },
          "execution_count": 2,
          "metadata": {},
          "output_type": "execute_result"
        }
      ],
      "source": [
        "stats.kruskal(diabetes_yes['insulin'], diabetes_no['insulin'])"
      ]
    },
    {
      "cell_type": "markdown",
      "id": "b88290f8-6473-4f4e-813c-ef81ed677b3a",
      "metadata": {
        "id": "b88290f8-6473-4f4e-813c-ef81ed677b3a"
      },
      "source": [
        "### Do patients with diabetes have higher glucose levels on average than patients without diabetes?"
      ]
    },
    {
      "cell_type": "code",
      "execution_count": null,
      "id": "d7bdf621-a30c-4389-b703-1187f98644bf",
      "metadata": {
        "id": "d7bdf621-a30c-4389-b703-1187f98644bf",
        "outputId": "b004f7b6-eb01-45e0-fe9e-daff488beae2"
      },
      "outputs": [
        {
          "data": {
            "image/png": "[encoded data removed]",
            "text/plain": [
              "<Figure size 432x288 with 1 Axes>"
            ]
          },
          "metadata": {
            "needs_background": "light"
          },
          "output_type": "display_data"
        }
      ],
      "source": [
        "plt.hist(diabetes_yes['glucose'], alpha = .5, label = \"insulin yes\")\n",
        "plt.hist(diabetes_no['glucose'], alpha = .5, label = \"insulin no\")\n",
        "plt.legend(loc=\"upper right\")\n",
        "plt.show()"
      ]
    },
    {
      "cell_type": "markdown",
      "id": "87ab5ffd-f80f-4b40-9e71-097076310a51",
      "metadata": {
        "id": "87ab5ffd-f80f-4b40-9e71-097076310a51"
      },
      "source": [
        "### More normally distributed.\n",
        "### We also see 0 values."
      ]
    },
    {
      "cell_type": "code",
      "execution_count": null,
      "id": "d27a279a-8181-46fc-b75e-237e88c8b884",
      "metadata": {
        "id": "d27a279a-8181-46fc-b75e-237e88c8b884",
        "outputId": "ab792d0f-3dda-44b5-db1e-2514b3be9d13"
      },
      "outputs": [
        {
          "data": {
            "image/png": "[encoded data removed]",
            "text/plain": [
              "<Figure size 432x288 with 1 Axes>"
            ]
          },
          "metadata": {
            "needs_background": "light"
          },
          "output_type": "display_data"
        }
      ],
      "source": [
        "diabetes_yes_filtered_glucose = diabetes_yes[diabetes_yes['glucose']!= 0]\n",
        "diabetes_no_filtered_glucose = diabetes_no[diabetes_no['glucose']!= 0]\n",
        "\n",
        "plt.hist(diabetes_yes_filtered_glucose['glucose'], alpha = .5, label = \"insulin yes\")\n",
        "plt.hist(diabetes_no_filtered_glucose['glucose'], alpha = .5, label = \"insulin no\")\n",
        "plt.legend(loc=\"upper right\")\n",
        "plt.show()\n"
      ]
    },
    {
      "cell_type": "code",
      "execution_count": null,
      "id": "b0281fc7-f265-4123-aaef-01260f539430",
      "metadata": {
        "id": "b0281fc7-f265-4123-aaef-01260f539430",
        "outputId": "8a95d0c7-36fe-48e6-8ccc-06c900953ceb"
      },
      "outputs": [
        {
          "name": "stdout",
          "output_type": "stream",
          "text": [
            "DescribeResult(nobs=266, minmax=(78, 199), mean=142.31954887218046, variance=876.1125975315648, skewness=0.09012092392161705, kurtosis=-0.9626447554252175)\n",
            "DescribeResult(nobs=497, minmax=(44, 197), mean=110.64386317907444, variance=613.8950882715649, skewness=0.6529596223112593, kurtosis=0.6434398312102663)\n"
          ]
        }
      ],
      "source": [
        "print(stats.describe(diabetes_yes_filtered_glucose['glucose']))\n",
        "print(stats.describe(diabetes_no_filtered_glucose['glucose']))"
      ]
    },
    {
      "cell_type": "code",
      "execution_count": null,
      "id": "f8b86d96-25ca-453d-a60e-bb1d95295a26",
      "metadata": {
        "id": "f8b86d96-25ca-453d-a60e-bb1d95295a26",
        "outputId": "b4c2e1a1-eb50-4eb7-a689-57cfda07d59f"
      },
      "outputs": [
        {
          "name": "stdout",
          "output_type": "stream",
          "text": [
            "Ttest_indResult(statistic=15.700907488875874, pvalue=2.4782891993106313e-48)\n"
          ]
        }
      ],
      "source": [
        "print(stats.ttest_ind(diabetes_yes_filtered_glucose['glucose'], diabetes_no_filtered_glucose['glucose']))"
      ]
    },
    {
      "cell_type": "markdown",
      "id": "ab136c53-f78e-4226-aad0-913890000edf",
      "metadata": {
        "id": "ab136c53-f78e-4226-aad0-913890000edf"
      },
      "source": [
        "### The test statistic is greater than 1.96 or pvalue is less than .05. And is."
      ]
    },
    {
      "cell_type": "code",
      "execution_count": null,
      "id": "1bdc44ba-d13f-4784-849b-72913440a866",
      "metadata": {
        "id": "1bdc44ba-d13f-4784-849b-72913440a866"
      },
      "outputs": [],
      "source": [
        "def get_95_ci(array_1, array_2):\n",
        "    sample_1_n = array_1.shape[0]\n",
        "    sample_2_n = array_2.shape[0]\n",
        "    sample_1_mean = array_1.mean()\n",
        "    sample_2_mean = array_2.mean()\n",
        "    sample_1_var = array_1.var()\n",
        "    sample_2_var = array_2.var()\n",
        "    mean_difference = sample_2_mean - sample_1_mean\n",
        "    std_err_difference = math.sqrt((sample_1_var/sample_1_n)+(sample_2_var/sample_2_n))\n",
        "    margin_of_error = 1.96 * std_err_difference\n",
        "    ci_lower = mean_difference - margin_of_error\n",
        "    ci_upper = mean_difference + margin_of_error\n",
        "    return(\"The difference in means at the 95% confidence interval (two-tail) is between \"+str(ci_lower)+\" and \"+str(ci_upper)+\".\")"
      ]
    },
    {
      "cell_type": "code",
      "execution_count": null,
      "id": "17aaeb74-e9b7-4a8e-8c82-ef4844692a25",
      "metadata": {
        "id": "17aaeb74-e9b7-4a8e-8c82-ef4844692a25",
        "outputId": "0bb2de08-2408-407a-86e8-9b670c34628b"
      },
      "outputs": [
        {
          "name": "stdout",
          "output_type": "stream",
          "text": [
            "The difference in means at the 95% confidence interval (two-tail) is between -35.846783869363435 and -27.504587516848606.\n"
          ]
        }
      ],
      "source": [
        "print(get_95_ci(diabetes_yes_filtered_glucose['glucose'], diabetes_no_filtered_glucose['glucose']))"
      ]
    },
    {
      "cell_type": "markdown",
      "id": "028244fe-51fd-4033-9623-c4cec0ae5a8a",
      "metadata": {
        "id": "028244fe-51fd-4033-9623-c4cec0ae5a8a"
      },
      "source": [
        "### You can interpret this result as saying that with 95% confidence, patients without diabetes have glucose levels that are on average between 35.84 mg/dL and 27.50 mg/dL lower than patients with diabetes."
      ]
    },
    {
      "cell_type": "code",
      "execution_count": null,
      "id": "74063f2a-c495-4a4f-bd21-5805e57dece4",
      "metadata": {
        "id": "74063f2a-c495-4a4f-bd21-5805e57dece4",
        "outputId": "076b6e99-51a4-43b4-a217-a4ab39684d2c"
      },
      "outputs": [
        {
          "data": {
            "text/plain": [
              "[[Text(0, 0, 'diabetes_yes'), Text(1, 0, 'diabetes_no')]]"
            ]
          },
          "execution_count": 16,
          "metadata": {},
          "output_type": "execute_result"
        },
        {
          "data": {
            "image/png": "[encoded data removed]",
            "text/plain": [
              "<Figure size 432x288 with 1 Axes>"
            ]
          },
          "metadata": {
            "needs_background": "light"
          },
          "output_type": "display_data"
        }
      ],
      "source": [
        "import seaborn as sns\n",
        "\n",
        "g = sns.pointplot(data=[diabetes_yes_filtered_glucose['glucose'],\n",
        "                        diabetes_no_filtered_glucose['glucose']], join=False)\n",
        "                        \n",
        "g.set(xticklabels = ['diabetes_yes', 'diabetes_no'])"
      ]
    },
    {
      "cell_type": "code",
      "execution_count": null,
      "id": "3aa53c39-37da-48ab-b33e-7ae2766c2737",
      "metadata": {
        "id": "3aa53c39-37da-48ab-b33e-7ae2766c2737"
      },
      "outputs": [],
      "source": []
    }
  ],
  "metadata": {
    "kernelspec": {
      "display_name": "Python 3 (ipykernel)",
      "language": "python",
      "name": "python3"
    },
    "language_info": {
      "codemirror_mode": {
        "name": "ipython",
        "version": 3
      },
      "file_extension": ".py",
      "mimetype": "text/x-python",
      "name": "python",
      "nbconvert_exporter": "python",
      "pygments_lexer": "ipython3",
      "version": "3.8.10"
    },
    "colab": {
      "provenance": []
    }
  },
  "nbformat": 4,
  "nbformat_minor": 5
}