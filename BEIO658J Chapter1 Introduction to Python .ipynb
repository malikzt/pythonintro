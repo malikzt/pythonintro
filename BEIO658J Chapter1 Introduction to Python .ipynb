{
 "cells": [
  {
   "cell_type": "markdown",
   "metadata": {},
   "source": [
    "\n",
    "# Chapter 1: Introduction to Python\n",
    "\n",
    "Dear Students, \n",
    "Python is a high-level, general-purpose and a very popular programming language. Python programming language (latest Python 3) is being used in web development, Machine Learning applications, along with all cutting edge technology in Software Industry. Python Programming Language is very well suited for Beginners, also for experienced programmers with other programming languages like C++ and Java.\n",
    "\n",
    "Our course is specially designed to help you learn Python Programming Language in efficient way, with the topics from basics to advanced and all time with examples. Examples are the most impotrant thing during our journey for this semester. \n",
    "\n",
    "\n",
    "Below are some facts about Python Programming Language:\n",
    "* Python is currently the most widely used multi-purpose, high-level programming language.\n",
    "* Python allows programming in Object-Oriented and Procedural paradigms.\n",
    "* Python programs generally are smaller than other programming languages like Java. Programmers have to type relatively less and indentation requirement of the language, makes them readable all the time.\n",
    "* Python language is being used by almost all tech-giant companies like – Google, Amazon, Facebook, Instagram, Dropbox, Uber… etc.\n",
    "\n",
    "The biggest strength of Python is huge collection of standard library which can be used for the following:\n",
    "Machine Learning,\n",
    "GUI Applications (like Kivy, Tkinter, PyQt etc. ),\n",
    "Web frameworks like Django (used by YouTube, Instagram, Dropbox),\n",
    "Image processing (like OpenCV, Pillow),\n",
    "Web scraping (like Scrapy, BeautifulSoup, Selenium),\n",
    "Test frameworks,\n",
    "Multimedia,\n",
    "Scientific computing,\n",
    "Text processing and many more..\n",
    "\n",
    "In our first chapter, let's learn about some data types in Python. Remember, we will not go through all of them for now but just the most important ones. \n",
    "\n",
    "In that chapter I used the following availble materials: [https://docs.python.org/3/tutorial/](https://docs.python.org/3/tutorial/)\n",
    "& [https://www.geeksforgeeks.org/](https://www.geeksforgeeks.org/)"
   ]
  },
  {
   "cell_type": "markdown",
   "metadata": {},
   "source": [
    "## Python Data Types\n",
    "\n",
    "Data types are the classification or categorization of data items. It represents the kind of value that tells what operations can be performed on a particular data. Since everything is an object in Python programming, data types are actually classes and variables are instance (object) of these classes.\n",
    "\n",
    "Following are the standard or built-in data type of Python:\n",
    "\n",
    "1. Numeric \n",
    "2. Sequence Type \n",
    "3. Boolean\n",
    "4. Set\n",
    "5. Dictionary\n",
    "\n",
    "![alt text here](Python-data-structure.JPG)"
   ]
  },
  {
   "cell_type": "markdown",
   "metadata": {},
   "source": [
    "### Numeric:\n",
    "In Python, numeric data type represent the data which has numeric value. Numeric value can be integer, floating number or even complex numbers. These values are defined as int, float and complex class in Python.\n",
    "\n",
    "* `Integers` – This value is represented by int class. It contains positive or negative whole numbers (without fraction or decimal). In Python there is no limit to how long an integer value can be.\n",
    "* `Float` – This value is represented by float class. It is a real number with floating point representation. It is specified by a decimal point. Optionally, the character e or E followed by a positive or negative integer may be appended to specify scientific notation.\n",
    "* `Complex Numbers` – Complex number is represented by complex class. It is specified as (real part) + (imaginary part)j. For example – 2+3j\n",
    "***\n",
    "**Note** – type() function is used to determine the type of data type.\n",
    "***"
   ]
  },
  {
   "cell_type": "code",
   "execution_count": 1,
   "metadata": {},
   "outputs": [
    {
     "name": "stdout",
     "output_type": "stream",
     "text": [
      "Type of a:  <class 'int'>\n",
      "\n",
      "Type of b:  <class 'float'>\n",
      "\n",
      "Type of c:  <class 'complex'>\n"
     ]
    }
   ],
   "source": [
    "# Python program to  \n",
    "# demonstrate numeric value \n",
    "  \n",
    "a = 5\n",
    "print(\"Type of a: \", type(a)) \n",
    "  \n",
    "b = 5.0\n",
    "print(\"\\nType of b: \", type(b)) \n",
    "  \n",
    "c = 2 + 4j\n",
    "print(\"\\nType of c: \", type(c)) "
   ]
  },
  {
   "cell_type": "markdown",
   "metadata": {},
   "source": [
    "Let's now move on a litle bit"
   ]
  },
  {
   "cell_type": "markdown",
   "metadata": {},
   "source": [
    "### Sequence Type\n",
    "\n",
    "In Python, sequence is the ordered collection of similar \n",
    "or different data types. Sequences allows to store multiple \n",
    "values in an organized and efficient fashion. There are several \n",
    "sequence types in Python:\n",
    "\n",
    "* `String`\n",
    "* `List`\n",
    "* `Tuple` \n",
    "\n",
    "#### String\n",
    "\n",
    "In Python, Strings are arrays of bytes representing Unicode characters. A string is a collection of one or more characters put in a single quote, double-quote or triple quote. In python there is no character data type, a character is a string of length one. It is represented by str class.\n",
    " \n",
    "Creating String\n",
    "\n",
    "Strings in Python can be created using single quotes or double quotes or even triple quotes."
   ]
  },
  {
   "cell_type": "code",
   "execution_count": 2,
   "metadata": {},
   "outputs": [
    {
     "name": "stdout",
     "output_type": "stream",
     "text": [
      "String with the use of Single Quotes: \n",
      "Welcome to the Geeks World\n",
      "\n",
      "String with the use of Double Quotes: \n",
      "I'm a Geek\n",
      "<class 'str'>\n",
      "\n",
      "String with the use of Triple Quotes: \n",
      "I'm a Geek and I live in a world of \"Geeks\"\n",
      "<class 'str'>\n",
      "\n",
      "Creating a multiline String: \n",
      "Geeks  \n",
      "            For  \n",
      "            Life\n"
     ]
    }
   ],
   "source": [
    "# Python Program for  \n",
    "# Creation of String  \n",
    "    \n",
    "# Creating a String   \n",
    "# with single Quotes  \n",
    "String1 = 'Welcome to the Geeks World'\n",
    "print(\"String with the use of Single Quotes: \")  \n",
    "print(String1)  \n",
    "    \n",
    "# Creating a String  \n",
    "# with double Quotes  \n",
    "String1 = \"I'm a Geek\"\n",
    "print(\"\\nString with the use of Double Quotes: \")  \n",
    "print(String1)  \n",
    "print(type(String1)) \n",
    "    \n",
    "# Creating a String  \n",
    "# with triple Quotes  \n",
    "String1 = '''I'm a Geek and I live in a world of \"Geeks\"'''\n",
    "print(\"\\nString with the use of Triple Quotes: \")  \n",
    "print(String1)  \n",
    "print(type(String1)) \n",
    "  \n",
    "# Creating String with triple  \n",
    "# Quotes allows multiple lines  \n",
    "String1 = '''Geeks  \n",
    "            For  \n",
    "            Life'''\n",
    "print(\"\\nCreating a multiline String: \")  \n",
    "print(String1)  \n"
   ]
  },
  {
   "cell_type": "markdown",
   "metadata": {},
   "source": [
    "#### String Indexing\n",
    "In Python, individual characters of a String can be accessed by using the method of Indexing. Indexing allows negative address references to access characters from the back of the String, e.g. -1 refers to the last character, -2 refers to the second last character and so on.\n",
    "![alt text here](strings_indexing.JPG)"
   ]
  },
  {
   "cell_type": "code",
   "execution_count": 3,
   "metadata": {},
   "outputs": [
    {
     "name": "stdout",
     "output_type": "stream",
     "text": [
      "Initial String: \n",
      "GeeksForGeeks\n",
      "\n",
      "First character of String is: \n",
      "G\n",
      "\n",
      "Last character of String is: \n",
      "s\n"
     ]
    }
   ],
   "source": [
    "\n",
    "# Python Program to Access  \n",
    "# characters of String  \n",
    "    \n",
    "String1 = \"GeeksForGeeks\"\n",
    "print(\"Initial String: \")  \n",
    "print(String1)  \n",
    "    \n",
    "# Printing First character  \n",
    "print(\"\\nFirst character of String is: \")  \n",
    "print(String1[0])  \n",
    "    \n",
    "# Printing Last character  \n",
    "print(\"\\nLast character of String is: \")  \n",
    "print(String1[-1])  \n"
   ]
  },
  {
   "cell_type": "code",
   "execution_count": 4,
   "metadata": {},
   "outputs": [
    {
     "name": "stdout",
     "output_type": "stream",
     "text": [
      "Display the 4th character: k\n"
     ]
    }
   ],
   "source": [
    "print('Display the 4th character:',String1[3])"
   ]
  },
  {
   "cell_type": "code",
   "execution_count": 5,
   "metadata": {},
   "outputs": [
    {
     "name": "stdout",
     "output_type": "stream",
     "text": [
      "Display the 4th character: k\n"
     ]
    }
   ],
   "source": [
    "print('Display the 4th character:',String1[-10])"
   ]
  },
  {
   "cell_type": "markdown",
   "metadata": {},
   "source": [
    "#### List\n",
    "Lists are just like the arrays, declared in other languages which is a ordered collection of data. It is very flexible as the items in a list do not need to be of the same type.\n",
    " \n",
    "Creating List\n",
    "\n",
    "Lists in Python can be created by just placing the sequence inside the square brackets[ ]."
   ]
  },
  {
   "cell_type": "code",
   "execution_count": 6,
   "metadata": {},
   "outputs": [
    {
     "name": "stdout",
     "output_type": "stream",
     "text": [
      "Intial blank List: \n",
      "[]\n",
      "\n",
      "List with the use of String: \n",
      "['GeeksForGeeks']\n",
      "\n",
      "List containing multiple values: \n",
      "Geeks\n",
      "Geeks\n",
      "\n",
      "Multi-Dimensional List: \n",
      "[['Geeks', 'For'], ['Geeks']]\n"
     ]
    }
   ],
   "source": [
    "\n",
    "# Python program to demonstrate   \n",
    "# Creation of List   \n",
    "    \n",
    "# Creating a List  \n",
    "List = []  \n",
    "print(\"Intial blank List: \")  \n",
    "print(List)  \n",
    "    \n",
    "# Creating a List with   \n",
    "# the use of a String  \n",
    "List = ['GeeksForGeeks']  \n",
    "print(\"\\nList with the use of String: \")  \n",
    "print(List)  \n",
    "    \n",
    "# Creating a List with  \n",
    "# the use of multiple values  \n",
    "List = [\"Geeks\", \"For\", \"Geeks\"]  \n",
    "print(\"\\nList containing multiple values: \")  \n",
    "print(List[0])   \n",
    "print(List[2])  \n",
    "    \n",
    "# Creating a Multi-Dimensional List  \n",
    "# (By Nesting a list inside a List)  \n",
    "List = [['Geeks', 'For'], ['Geeks']]  \n",
    "print(\"\\nMulti-Dimensional List: \")  \n",
    "print(List)  \n"
   ]
  },
  {
   "cell_type": "markdown",
   "metadata": {},
   "source": [
    "##### Accessing elements of List\n",
    "In order to access the list items refer to the index number. Use the index operator [ ] to access an item in a list. In Python, negative sequence indexes represent positions from the end of the array. Instead of having to compute the offset as in List[len(List)-3], it is enough to just write List[-3]. Negative indexing means beginning from the end, -1 refers to the last item, -2 refers to the second-last item, etc."
   ]
  },
  {
   "cell_type": "code",
   "execution_count": 7,
   "metadata": {},
   "outputs": [
    {
     "name": "stdout",
     "output_type": "stream",
     "text": [
      "Accessing element from the list\n",
      "Geeks\n",
      "Geeks\n",
      "Accessing element using negative indexing\n",
      "Geeks\n",
      "Geeks\n"
     ]
    }
   ],
   "source": [
    "\n",
    "# Python program to demonstrate   \n",
    "# accessing of element from list  \n",
    "    \n",
    "# Creating a List with  \n",
    "# the use of multiple values  \n",
    "List = [\"Geeks\", \"For\", \"Geeks\"]  \n",
    "    \n",
    "# accessing a element from the   \n",
    "# list using index number  \n",
    "print(\"Accessing element from the list\")  \n",
    "print(List[0])   \n",
    "print(List[2])  \n",
    "  \n",
    "# accessing a element using  \n",
    "# negative indexing  \n",
    "print(\"Accessing element using negative indexing\")  \n",
    "    \n",
    "# print the last element of list  \n",
    "print(List[-1])  \n",
    "    \n",
    "# print the third last element of list   \n",
    "print(List[-3])  \n"
   ]
  },
  {
   "cell_type": "markdown",
   "metadata": {},
   "source": [
    "#### Tuple\n",
    "Just like list, tuple is also an ordered collection of Python objects. The only difference between type and list is that tuples are immutable i.e. tuples cannot be modified after it is created. It is represented by tuple class.\n",
    "\n",
    " \n",
    "##### Creating Tuple\n",
    "\n",
    "In Python, tuples are created by placing a sequence of values separated by ‘comma’ with or without the use of parentheses for grouping of the data sequence. Tuples can contain any number of elements and of any datatype (like strings, integers, list, etc.).\n",
    "\n",
    "Note: Tuples can also be created with a single element, but it is a bit tricky. Having one element in the parentheses is not sufficient, there must be a trailing ‘comma’ to make it a tuple."
   ]
  },
  {
   "cell_type": "code",
   "execution_count": 8,
   "metadata": {},
   "outputs": [
    {
     "name": "stdout",
     "output_type": "stream",
     "text": [
      "Initial empty Tuple: \n",
      "()\n",
      "\n",
      "Tuple with the use of String: \n",
      "('Geeks', 'For')\n",
      "\n",
      "Tuple using List: \n",
      "(1, 2, 4, 5, 6)\n",
      "\n",
      "Tuple with the use of function: \n",
      "('G', 'e', 'e', 'k', 's')\n",
      "\n",
      "Tuple with nested tuples: \n",
      "((0, 1, 2, 3), ('python', 'geek'))\n"
     ]
    }
   ],
   "source": [
    "\n",
    "# Python program to demonstrate   \n",
    "# creation of Set  \n",
    "    \n",
    "# Creating an empty tuple  \n",
    "Tuple1 = ()  \n",
    "print(\"Initial empty Tuple: \")  \n",
    "print (Tuple1)  \n",
    "    \n",
    "# Creating a Tuple with   \n",
    "# the use of Strings  \n",
    "Tuple1 = ('Geeks', 'For')  \n",
    "print(\"\\nTuple with the use of String: \")  \n",
    "print(Tuple1)  \n",
    "    \n",
    "# Creating a Tuple with  \n",
    "# the use of list  \n",
    "list1 = [1, 2, 4, 5, 6]  \n",
    "print(\"\\nTuple using List: \")  \n",
    "print(tuple(list1))  \n",
    "  \n",
    "# Creating a Tuple with the  \n",
    "# use of built-in function  \n",
    "Tuple1 = tuple('Geeks')  \n",
    "print(\"\\nTuple with the use of function: \")  \n",
    "print(Tuple1)  \n",
    "  \n",
    "# Creating a Tuple   \n",
    "# with nested tuples  \n",
    "Tuple1 = (0, 1, 2, 3)  \n",
    "Tuple2 = ('python', 'geek')  \n",
    "Tuple3 = (Tuple1, Tuple2)  \n",
    "print(\"\\nTuple with nested tuples: \")  \n",
    "print(Tuple3)  \n"
   ]
  },
  {
   "cell_type": "markdown",
   "metadata": {},
   "source": [
    "##### Accessing elements of Tuple\n",
    "\n",
    "In order to access the tuple items refer to the index number. Use the index operator [ ] to access an item in a tuple. The index must be an integer. Nested tuples are accessed using nested indexing."
   ]
  },
  {
   "cell_type": "code",
   "execution_count": 9,
   "metadata": {},
   "outputs": [
    {
     "name": "stdout",
     "output_type": "stream",
     "text": [
      "Frist element of tuple\n",
      "1\n",
      "\n",
      "Last element of tuple\n",
      "5\n",
      "\n",
      "Third last element of tuple\n",
      "3\n"
     ]
    }
   ],
   "source": [
    "\n",
    "# Python program to  \n",
    "# demonstrate accessing tuple \n",
    "  \n",
    "tuple1 = tuple([1, 2, 3, 4, 5]) \n",
    "  \n",
    "# Accessing element using indexing \n",
    "print(\"Frist element of tuple\") \n",
    "print(tuple1[0]) \n",
    "  \n",
    "# Accessing element from last \n",
    "# negative indexing \n",
    "print(\"\\nLast element of tuple\") \n",
    "print(tuple1[-1]) \n",
    "  \n",
    "print(\"\\nThird last element of tuple\") \n",
    "print(tuple1[-3]) \n"
   ]
  },
  {
   "cell_type": "markdown",
   "metadata": {},
   "source": [
    "### Dictionary\n",
    "`Dictionary` in Python is an unordered collection of data values, used to store data values like a map, which unlike other Data Types that hold only single value as an element, Dictionary holds key:value pair. Key-value is provided in the dictionary to make it more optimized. Each key-value pair in a Dictionary is separated by a colon :, whereas each key is separated by a ‘comma’.\n",
    "\n",
    "***Creating Dictionary***\n",
    "\n",
    "In Python, a Dictionary can be created by placing a sequence of elements within curly {} braces, separated by ‘comma’. Values in a dictionary can be of any datatype and can be duplicated, whereas keys can’t be repeated and must be immutable. Dictionary can also be created by the built-in function dict(). An empty dictionary can be created by just placing it to curly braces{}."
   ]
  },
  {
   "cell_type": "code",
   "execution_count": 10,
   "metadata": {},
   "outputs": [
    {
     "name": "stdout",
     "output_type": "stream",
     "text": [
      "Empty Dictionary: \n",
      "{}\n",
      "\n",
      "Dictionary with the use of Integer Keys: \n",
      "{1: 'Geeks', 2: 'For', 3: 'Geeks'}\n",
      "\n",
      "Dictionary with the use of Mixed Keys: \n",
      "{'Name': 'Geeks', 1: [1, 2, 3, 4]}\n",
      "\n",
      "Dictionary with the use of dict(): \n",
      "{1: 'Geeks', 2: 'For', 3: 'Geeks'}\n",
      "\n",
      "Dictionary with each item as a pair: \n",
      "{1: 'Geeks', 2: 'For'}\n"
     ]
    }
   ],
   "source": [
    "\n",
    "# Creating an empty Dictionary  \n",
    "Dict = {}  \n",
    "print(\"Empty Dictionary: \")  \n",
    "print(Dict)  \n",
    "    \n",
    "# Creating a Dictionary   \n",
    "# with Integer Keys  \n",
    "Dict = {1: 'Geeks', 2: 'For', 3: 'Geeks'}  \n",
    "print(\"\\nDictionary with the use of Integer Keys: \")  \n",
    "print(Dict)  \n",
    "    \n",
    "# Creating a Dictionary   \n",
    "# with Mixed keys  \n",
    "Dict = {'Name': 'Geeks', 1: [1, 2, 3, 4]}  \n",
    "print(\"\\nDictionary with the use of Mixed Keys: \")  \n",
    "print(Dict)  \n",
    "    \n",
    "# Creating a Dictionary  \n",
    "# with dict() method  \n",
    "Dict = dict({1: 'Geeks', 2: 'For', 3:'Geeks'})  \n",
    "print(\"\\nDictionary with the use of dict(): \")  \n",
    "print(Dict)  \n",
    "    \n",
    "# Creating a Dictionary  \n",
    "# with each item as a Pair  \n",
    "Dict = dict([(1, 'Geeks'), (2, 'For')])  \n",
    "print(\"\\nDictionary with each item as a pair: \")  \n",
    "print(Dict)  \n"
   ]
  },
  {
   "cell_type": "markdown",
   "metadata": {},
   "source": [
    "***Accessing elements of Dictionary***\n",
    "\n",
    "In order to access the items of a dictionary refer to its key name. Key can be used inside square brackets. There is also a method called get() that will also help in accessing the element from a dictionary."
   ]
  },
  {
   "cell_type": "code",
   "execution_count": 11,
   "metadata": {},
   "outputs": [
    {
     "name": "stdout",
     "output_type": "stream",
     "text": [
      "Accessing a element using key:\n",
      "For\n",
      "Accessing a element using get:\n",
      "Geeks\n"
     ]
    }
   ],
   "source": [
    "# Python program to demonstrate    \n",
    "# accessing a element from a Dictionary   \n",
    "    \n",
    "# Creating a Dictionary   \n",
    "Dict = {1: 'Geeks', 'name': 'For', 3: 'Geeks'}  \n",
    "    \n",
    "# accessing a element using key  \n",
    "print(\"Accessing a element using key:\")  \n",
    "print(Dict['name'])  \n",
    "  \n",
    "# accessing a element using get()  \n",
    "# method  \n",
    "print(\"Accessing a element using get:\")  \n",
    "print(Dict.get(3))  "
   ]
  },
  {
   "cell_type": "markdown",
   "metadata": {},
   "source": [
    "### Boolean\n",
    "\n",
    "Data type with one of the two built-in values, True or False. Boolean objects that are equal to True are truthy (true), and those equal to False are falsy (false). But non-Boolean objects can be evaluated in Boolean context as well and determined to be true or false. It is denoted by the class bool.\n",
    "\n",
    "Note – True and False with capital ‘T’ and ‘F’ are valid booleans otherwise python will throw an error."
   ]
  },
  {
   "cell_type": "code",
   "execution_count": 12,
   "metadata": {},
   "outputs": [
    {
     "name": "stdout",
     "output_type": "stream",
     "text": [
      "<class 'bool'>\n",
      "<class 'bool'>\n"
     ]
    },
    {
     "ename": "NameError",
     "evalue": "name 'true' is not defined",
     "output_type": "error",
     "traceback": [
      "\u001b[1;31m---------------------------------------------------------------------------\u001b[0m",
      "\u001b[1;31mNameError\u001b[0m                                 Traceback (most recent call last)",
      "\u001b[1;32m~\\AppData\\Local\\Temp\\ipykernel_11272\\1399066308.py\u001b[0m in \u001b[0;36m<module>\u001b[1;34m\u001b[0m\n\u001b[0;32m      5\u001b[0m \u001b[0mprint\u001b[0m\u001b[1;33m(\u001b[0m\u001b[0mtype\u001b[0m\u001b[1;33m(\u001b[0m\u001b[1;32mFalse\u001b[0m\u001b[1;33m)\u001b[0m\u001b[1;33m)\u001b[0m\u001b[1;33m\u001b[0m\u001b[1;33m\u001b[0m\u001b[0m\n\u001b[0;32m      6\u001b[0m \u001b[1;33m\u001b[0m\u001b[0m\n\u001b[1;32m----> 7\u001b[1;33m \u001b[0mprint\u001b[0m\u001b[1;33m(\u001b[0m\u001b[0mtype\u001b[0m\u001b[1;33m(\u001b[0m\u001b[0mtrue\u001b[0m\u001b[1;33m)\u001b[0m\u001b[1;33m)\u001b[0m\u001b[1;33m\u001b[0m\u001b[1;33m\u001b[0m\u001b[0m\n\u001b[0m",
      "\u001b[1;31mNameError\u001b[0m: name 'true' is not defined"
     ]
    }
   ],
   "source": [
    "# Python program to  \n",
    "# demonstrate boolean type \n",
    "  \n",
    "print(type(True)) \n",
    "print(type(False)) \n",
    "  \n",
    "print(type(true)) \n"
   ]
  },
  {
   "cell_type": "markdown",
   "metadata": {},
   "source": [
    "## Input/Output or I/O\n",
    "### Taking input in Python\n",
    "Developers often have a need to interact with users, either to get data or to provide some sort of result. Most programs today use a dialog box as a way of asking the user to provide some type of input. While Python provides us with two inbuilt functions to read the input from the keyboard.\n",
    "\n",
    "* input ( prompt )\n",
    "* raw_input ( prompt )\n",
    "\n",
    "input ( ) : This function first takes the input from the user and then evaluates the expression, which means Python automatically identifies whether user entered a string or a number or list. If the input provided is not correct then either syntax error or exception is raised by python. For example –"
   ]
  },
  {
   "cell_type": "code",
   "execution_count": null,
   "metadata": {},
   "outputs": [],
   "source": [
    "# Python program showing  \n",
    "# a use of input() \n",
    "  \n",
    "val = int(input(\"Enter your value: \"))\n",
    "val = val\n",
    "type(val) \n",
    "print(val)"
   ]
  },
  {
   "cell_type": "markdown",
   "metadata": {},
   "source": [
    "### Output using print() function\n",
    "The simplest way to produce output is using the print() function where you can pass zero or more expressions separated by commas. This function converts the expressions you pass into a string before writing to the screen."
   ]
  },
  {
   "cell_type": "code",
   "execution_count": null,
   "metadata": {},
   "outputs": [],
   "source": [
    "# Python 3.x program showing \n",
    "# how to print data on \n",
    "# a screen \n",
    "  \n",
    "# One object is passed \n",
    "print(\"GeeksForGeeks\") \n",
    "  \n",
    "x = 5\n",
    "# Two objects are passed \n",
    "print(\"x =\", x) \n",
    "  \n",
    "# code for disabling the softspace feature  \n",
    "print('G', 'F', 'G', sep ='') \n",
    "  \n",
    "# using end argument \n",
    "print(\"Python\", end = '@')   \n",
    "print(\"GeeksforGeeks\")  "
   ]
  },
  {
   "cell_type": "markdown",
   "metadata": {},
   "source": [
    "## Python Operators\n",
    "Operators in general are used to perform operations on values and variables in Python. These are standard symbols used for the purpose of logical and arithmetic operations. In this article, we will look into different types of Python operators.\n",
    "\n",
    "1. Arithmetic operators: Arithmetic operators are used to perform mathematical operations like addition, subtraction, multiplication and division.\n",
    "![alt text here](op1.png)\n",
    "2. Relational Operators: Relational operators compares the values. It either returns True or False according to the condition.\n",
    "![alt text here](op2.png)\n",
    "3. Logical operators: Logical operators perform Logical AND, Logical OR and Logical NOT operations.\n",
    "![alt text here](op3.png)"
   ]
  },
  {
   "cell_type": "code",
   "execution_count": 1,
   "metadata": {},
   "outputs": [
    {
     "name": "stdout",
     "output_type": "stream",
     "text": [
      "13\n",
      "5\n",
      "36\n",
      "2.25\n",
      "2\n",
      "1\n",
      "6561\n"
     ]
    }
   ],
   "source": [
    "# Examples of Arithmetic Operator  \n",
    "a = 9\n",
    "b = 4 \n",
    "\n",
    "# Addition of numbers  \n",
    "add = a + b  \n",
    "  \n",
    "# Subtraction of numbers  \n",
    "sub = a - b  \n",
    "  \n",
    "# Multiplication of number  \n",
    "mul = a * b  \n",
    "  \n",
    "# Division(float) of number  \n",
    "div1 = a / b  \n",
    "  \n",
    "# Division(floor) of number  \n",
    "div2 = a // b  \n",
    "  \n",
    "# Modulo of both number  \n",
    "mod = a % b  \n",
    "  \n",
    "# Power \n",
    "p = a ** b \n",
    "  \n",
    "# print results  \n",
    "print(add)  \n",
    "print(sub)  \n",
    "print(mul)  \n",
    "print(div1)  \n",
    "print(div2)  \n",
    "print(mod) \n",
    "print(p) "
   ]
  },
  {
   "cell_type": "code",
   "execution_count": 2,
   "metadata": {},
   "outputs": [
    {
     "name": "stdout",
     "output_type": "stream",
     "text": [
      "False\n",
      "True\n",
      "False\n",
      "True\n",
      "False\n",
      "True\n"
     ]
    }
   ],
   "source": [
    "# Examples of Relational Operators \n",
    "a = 13\n",
    "b = 33\n",
    "  \n",
    "# a > b is False \n",
    "print(a > b) \n",
    "  \n",
    "# a < b is True \n",
    "print(a < b) \n",
    "  \n",
    "# a == b is False \n",
    "print(a == b) \n",
    "  \n",
    "# a != b is True \n",
    "print(a != b) \n",
    "  \n",
    "# a >= b is False \n",
    "print(a >= b) \n",
    "  \n",
    "# a <= b is True \n",
    "print(a <= b) "
   ]
  },
  {
   "cell_type": "code",
   "execution_count": 3,
   "metadata": {},
   "outputs": [
    {
     "name": "stdout",
     "output_type": "stream",
     "text": [
      "False\n",
      "True\n",
      "False\n"
     ]
    }
   ],
   "source": [
    "# Examples of Logical Operator \n",
    "a = True\n",
    "b = False\n",
    "\n",
    "# Print a and b is False \n",
    "print(a and b) \n",
    "\n",
    "# Print a or b is True \n",
    "print(a or b) \n",
    "\n",
    "# Print not a is False \n",
    "print(not a) "
   ]
  },
  {
   "cell_type": "markdown",
   "metadata": {},
   "source": [
    "## Mathematical Functions in Python\n",
    "Here is a list of few built-in functions in Python. We will see more and more of course!\n",
    "1. abs(x): computes the absolute value of x\n",
    "2. round(x): rounds the value of x\n",
    "3. pow(x,y): compute $x^y$\n",
    "4. int(x): converts the value to an integer data type\n",
    "5. float(x): converts the value to a floating data type "
   ]
  },
  {
   "cell_type": "markdown",
   "metadata": {},
   "source": [
    "Other functions that can be imported through the \"math module\".\n",
    "<br>\n",
    "to use this functions, we will have to type: import math\n",
    "<br>\n",
    "1. math.pi: approximates $\\pi$ (3.14159)\n",
    "2. math.e: approximate $e$ (2.71828)\n",
    "3. math.sqrt(x): $\\sqrt(x)$\n",
    "4. math.sin(x): $sin(x)$\n",
    "5. math.cos(x): $cos(x)$\n",
    "5. math.ceil(x): ceiling of x, it outpouts the samllest whole number $>=$ x\n",
    "6. math.floor(x): floor of x, it outputs the largest whole number of $<=$ x"
   ]
  },
  {
   "cell_type": "code",
   "execution_count": 4,
   "metadata": {},
   "outputs": [
    {
     "name": "stdout",
     "output_type": "stream",
     "text": [
      "2.0\n",
      "2.718281828459045\n",
      "2\n",
      "1\n"
     ]
    }
   ],
   "source": [
    "import math\n",
    "# 1\n",
    "x = 4\n",
    "print(math.sqrt(x))\n",
    "print(math.e)\n",
    "print(math.ceil(1.8))\n",
    "print(math.floor(1.8))"
   ]
  },
  {
   "cell_type": "code",
   "execution_count": null,
   "metadata": {},
   "outputs": [],
   "source": []
  }
 ],
 "metadata": {
  "kernelspec": {
   "display_name": "Python 3 (ipykernel)",
   "language": "python",
   "name": "python3"
  },
  "language_info": {
   "codemirror_mode": {
    "name": "ipython",
    "version": 3
   },
   "file_extension": ".py",
   "mimetype": "text/x-python",
   "name": "python",
   "nbconvert_exporter": "python",
   "pygments_lexer": "ipython3",
   "version": "3.11.4"
  }
 },
 "nbformat": 4,
 "nbformat_minor": 4
}
