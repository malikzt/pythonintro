{
 "cells": [
  {
   "cell_type": "markdown",
   "metadata": {},
   "source": [
    "# Homework 5, OOP\n",
    "# Name: Zannate Malik\n",
    "\n",
    "## Exercise 1\n",
    "q1. Create a Sphere class that accepts a radius upon instanitiation (initialization) and has a volune and surface are method"
   ]
  },
  {
   "cell_type": "code",
   "execution_count": 6,
   "metadata": {},
   "outputs": [],
   "source": [
    "class Sphere:\n",
    "    \n",
    "    ...."
   ]
  },
  {
   "cell_type": "code",
   "execution_count": 28,
   "metadata": {},
   "outputs": [
    {
     "name": "stdout",
     "output_type": "stream",
     "text": [
      "Radius: 5\n",
      "Volume: 523.60\n",
      "Surface Area: 314.16\n"
     ]
    }
   ],
   "source": [
    "class Sphere:\n",
    "    def __init__(self, radius):\n",
    "        self.radius = radius\n",
    "\n",
    "    def volume(self):\n",
    "        return (4/3) * math.pi * self.radius**3\n",
    "\n",
    "    def surface_area(self):\n",
    "        return 4 * math.pi * self.radius**2\n",
    "\n",
    "radius = 5\n",
    "sphere = Sphere(radius)\n",
    "\n",
    "sphere_volume = sphere.volume()\n",
    "sphere_surface_area = sphere.surface_area()\n",
    "\n",
    "print(f\"Radius: {radius}\")\n",
    "print(f\"Volume: {sphere_volume:.2f}\")\n",
    "print(f\"Surface Area: {sphere_surface_area:.2f}\")\n"
   ]
  },
  {
   "cell_type": "markdown",
   "metadata": {},
   "source": [
    "q2. Check for the created class if it is working by creating a Sphere object and run the two methods created"
   ]
  },
  {
   "cell_type": "code",
   "execution_count": 1,
   "metadata": {},
   "outputs": [
    {
     "data": {
      "text/plain": [
       "Ellipsis"
      ]
     },
     "execution_count": 1,
     "metadata": {},
     "output_type": "execute_result"
    }
   ],
   "source": [
    "..."
   ]
  },
  {
   "cell_type": "code",
   "execution_count": 2,
   "metadata": {},
   "outputs": [
    {
     "name": "stdout",
     "output_type": "stream",
     "text": [
      "Sphere Volume: 113.10\n",
      "Sphere Surface Area: 113.10\n"
     ]
    }
   ],
   "source": [
    "sphere = Sphere(3)\n",
    "\n",
    "sphere_volume = sphere.volume()\n",
    "print(f\"Sphere Volume: {sphere_volume:.2f}\")\n",
    "\n",
    "sphere_surface_area = sphere.surface_area()\n",
    "print(f\"Sphere Surface Area: {sphere_surface_area:.2f}\")\n"
   ]
  },
  {
   "cell_type": "markdown",
   "metadata": {},
   "source": [
    "q3. Create a Cylinder child class inheriting from the \n",
    " Sphere class and add a height attribute and change the volume() method to calculate the volume of a cylinder object."
   ]
  },
  {
   "cell_type": "code",
   "execution_count": 5,
   "metadata": {},
   "outputs": [],
   "source": [
    "class Cylinder(Sphere):\n",
    "    def _init_(self, radius, height):\n",
    "        self.radius = radius  \n",
    "        self.height = height\n",
    "\n",
    "    def volume(self):\n",
    "        return math.pi * self.radius**2 * self.height\n",
    "    "
   ]
  },
  {
   "cell_type": "code",
   "execution_count": 29,
   "metadata": {},
   "outputs": [
    {
     "name": "stdout",
     "output_type": "stream",
     "text": [
      "Sphere Volume: 268.08\n",
      "Cylinder Volume: 169.65\n"
     ]
    }
   ],
   "source": [
    "class Sphere:\n",
    "    def __init__(self, radius):\n",
    "        self.radius = radius\n",
    "\n",
    "    def volume(self):\n",
    "        return (4/3) * math.pi * self.radius**3\n",
    "\n",
    "    def surface_area(self):\n",
    "        return 4 * math.pi * self.radius**2\n",
    "\n",
    "class Cylinder(Sphere):\n",
    "    def __init__(self, radius, height):\n",
    "        self.radius = radius  \n",
    "        self.height = height\n",
    "\n",
    "    def volume(self):\n",
    "        return math.pi * self.radius**2 * self.height\n",
    "\n",
    "\n",
    "sphere_radius = 4\n",
    "cylinder_radius = 3\n",
    "cylinder_height = 6\n",
    "\n",
    "sphere = Sphere(sphere_radius)\n",
    "cylinder = Cylinder(cylinder_radius, cylinder_height)\n",
    "\n",
    "sphere_volume = sphere.volume()\n",
    "print(f\"Sphere Volume: {sphere_volume:.2f}\")\n",
    "\n",
    "cylinder_volume = cylinder.volume()\n",
    "print(f\"Cylinder Volume: {cylinder_volume:.2f}\")\n"
   ]
  },
  {
   "cell_type": "markdown",
   "metadata": {},
   "source": [
    "q4. Check for the created class if it is working by creating a Cylinder object and run for the new method created"
   ]
  },
  {
   "cell_type": "code",
   "execution_count": 30,
   "metadata": {},
   "outputs": [
    {
     "name": "stdout",
     "output_type": "stream",
     "text": [
      "Cylinder Volume: 169.65\n"
     ]
    }
   ],
   "source": [
    "class Sphere:\n",
    "    def __init__(self, radius):\n",
    "        self.radius = radius\n",
    "\n",
    "    def volume(self):\n",
    "        return (4/3) * math.pi * self.radius**3\n",
    "\n",
    "    def surface_area(self):\n",
    "        return 4 * math.pi * self.radius**2\n",
    "\n",
    "class Cylinder(Sphere):\n",
    "    def __init__(self, radius, height):\n",
    "        self.radius = radius  \n",
    "        self.height = height\n",
    "\n",
    "    def volume(self):\n",
    "        return math.pi * self.radius**2 * self.height\n",
    "\n",
    "cylinder_radius = 3\n",
    "cylinder_height = 6\n",
    "cylinder = Cylinder(cylinder_radius, cylinder_height)\n",
    "\n",
    "cylinder_volume = cylinder.volume()\n",
    "print(f\"Cylinder Volume: {cylinder_volume:.2f}\")\n"
   ]
  },
  {
   "cell_type": "markdown",
   "metadata": {},
   "source": [
    "q4. using the special method __add__, make sure that when we call for difference between two sphere classes `s1` and `s2` we obtain the difference between their volumes.\n",
    "```\n",
    "s1 - s1\n",
    "```\n",
    "Please demonstrate through an example."
   ]
  },
  {
   "cell_type": "code",
   "execution_count": null,
   "metadata": {},
   "outputs": [],
   "source": [
    "class Sphere:\n",
    "    \n",
    "    def __init__(self, radius):\n",
    "        self.radius = radius\n",
    "        \n",
    "    def volume(self):\n",
    "        return (4/3) * 3.14 * (self.radius**3)\n",
    "    \n",
    "    def surface_area(self):\n",
    "        return 4*3.14*(self.radius**2)\n",
    "    \n",
    "    ..."
   ]
  },
  {
   "cell_type": "code",
   "execution_count": 24,
   "metadata": {},
   "outputs": [
    {
     "name": "stdout",
     "output_type": "stream",
     "text": [
      "The volume difference between s1 and s2 is: 79.55\n"
     ]
    }
   ],
   "source": [
    "#I believe questions is asking for subtraction not addition \n",
    "class Sphere:\n",
    "    \n",
    "    def __init__(self, radius):\n",
    "        self.radius = radius\n",
    "        \n",
    "    def volume(self):\n",
    "        return (4/3) * 3.14 * (self.radius**3)\n",
    "    \n",
    "    def surface_area(self):\n",
    "        return 4*3.14*(self.radius**2)\n",
    "    \n",
    "    def __sub__(self, other_sphere):\n",
    "        return (self.volume()- other_sphere.volume())\n",
    "    \n",
    "\n",
    "s1 = Sphere(3)\n",
    "s2 = Sphere(2)\n",
    "\n",
    "volume_difference = s1 - s2\n",
    "\n",
    "print(f\"Volume difference between s1 and s2 is: {volume_difference:.2f}\")"
   ]
  },
  {
   "cell_type": "markdown",
   "metadata": {},
   "source": [
    "## Exercise 2\n",
    "For this exercise, you will create a class called GuessGame with several steps:\n",
    "\n",
    "1. Create a class called GuessGame.\n",
    "2. The class should not take any user inputs or arguments upon instantiation (initialization).\n",
    "3. In the `__init__` method, set a self.rand_choice attribute to a random integer between 0 and 10 (using the random module, `import random`).\n",
    "4. Create a method in the class called reset_random that will reset the self.rand_choice attribute to a new random integer between 0 and 10.\n",
    "5. Create a method called guess that uses the input() function to accept a user's guess for the random number. This method should print out a statement indicating whether or not the user's guess was correct.\n",
    "\n",
    "Please always run examples to check!"
   ]
  },
  {
   "cell_type": "code",
   "execution_count": 19,
   "metadata": {},
   "outputs": [
    {
     "name": "stdout",
     "output_type": "stream",
     "text": [
      "Guess a number between 0 and 10: 2\n",
      "Your guess is incorrect. The correct number was 0.\n"
     ]
    }
   ],
   "source": [
    "import random\n",
    "\n",
    "class GuessGame:\n",
    "    def __init__(self):\n",
    "        self.reset_random()\n",
    "\n",
    "    def reset_random(self):\n",
    "        self.rand_choice = random.randint(0, 10)\n",
    "\n",
    "    def guess(self):\n",
    "        user_guess = int(input(\"Guess a number between 0 and 10: \"))\n",
    "        \n",
    "        if user_guess == self.rand_choice:\n",
    "            print(\"Your guess is correct.\")\n",
    "        else:\n",
    "            print(f\"Your guess is incorrect. The correct number was {self.rand_choice}.\")\n",
    "\n",
    "\n",
    "game = GuessGame()\n",
    "game.guess()  \n",
    "game.reset_random()"
   ]
  },
  {
   "cell_type": "markdown",
   "metadata": {},
   "source": [
    "## Exercise 3\n",
    "In this exercise, you will create a class called Person.\n",
    "\n",
    "1. The class should take two arguments upon instantiation: `first_name` (a string) and `last_name` (a string).\n",
    "2. The class should have a method called full_name that returns the person's full name (i.e., first name and last name separated by a space).\n",
    "3. The class should have a method called initials that returns the person's initials (i.e., the first letter of the first name and the first letter of the last name, separated by a period).\n",
    "4. The class should have a method called greet that takes in a single argument other_person (another Person object) and prints a greeting message that includes the other person's full name. The greeting should be in the format \"Hello, [other person's full name]!\".\n",
    "\n"
   ]
  },
  {
   "cell_type": "code",
   "execution_count": 20,
   "metadata": {},
   "outputs": [
    {
     "name": "stdout",
     "output_type": "stream",
     "text": [
      "Full Name 1: Zannate Malik\n",
      "Initials 1: Z.M\n",
      "Full Name 2: Michael Angelo\n",
      "Initials 2: M.A\n",
      "Hello, Michael Angelo!\n"
     ]
    }
   ],
   "source": [
    "class Person:\n",
    "    def __init__(self, first_name, last_name):\n",
    "        self.first_name = first_name\n",
    "        self.last_name = last_name\n",
    "\n",
    "    def full_name(self):\n",
    "        return f\"{self.first_name} {self.last_name}\"\n",
    "\n",
    "    def initials(self):\n",
    "        return f\"{self.first_name[0]}.{self.last_name[0]}\"\n",
    "\n",
    "    def greet(self, other_person):\n",
    "        print(f\"Hello, {other_person.full_name()}!\")\n",
    "\n",
    "        \n",
    "person1 = Person(\"Zannate\", \"Malik\")\n",
    "person2 = Person(\"Michael\", \"Angelo\")\n",
    "\n",
    "print(f\"Full Name Person 1: {person1.full_name()}\")\n",
    "print(f\"Initials Person 1: {person1.initials()}\")\n",
    "\n",
    "print(f\"Full Name Person 2: {person2.full_name()}\")\n",
    "print(f\"Initials Person 2: {person2.initials()}\")\n",
    "\n",
    "person1.greet(person2) #you can add different person"
   ]
  },
  {
   "cell_type": "code",
   "execution_count": null,
   "metadata": {},
   "outputs": [],
   "source": []
  }
 ],
 "metadata": {
  "kernelspec": {
   "display_name": "Python 3 (ipykernel)",
   "language": "python",
   "name": "python3"
  },
  "language_info": {
   "codemirror_mode": {
    "name": "ipython",
    "version": 3
   },
   "file_extension": ".py",
   "mimetype": "text/x-python",
   "name": "python",
   "nbconvert_exporter": "python",
   "pygments_lexer": "ipython3",
   "version": "3.11.4"
  }
 },
 "nbformat": 4,
 "nbformat_minor": 4
}
