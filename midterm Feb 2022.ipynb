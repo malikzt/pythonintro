{
 "cells": [
  {
   "cell_type": "markdown",
   "id": "da0759b8",
   "metadata": {},
   "source": [
    "# BIOE 442 Final exam Spring 2023\n",
    "\n",
    "Your name:\n",
    "\n",
    "\n",
    "**Please provide example on each case created in your code.**"
   ]
  },
  {
   "cell_type": "markdown",
   "id": "be481f74",
   "metadata": {},
   "source": [
    "## Problem 1 (30 points)\n",
    "\n",
    "Write a Python function to find the root of a function using the Secant method. The function should take the following arguments:\n",
    "\n",
    "* `f`: the function to find the root of.\n",
    "* `x0` and `x1`: the initial guesses for the root.\n",
    "* `eps`: the desired tolerance for the root (default: 1e-8).\n",
    "* `max_iter`: the maximum number of iterations to perform (default: 100).\n",
    "\n",
    "Your function should return the estimated root of the function. Test your function by finding the root of the function f(x) = `x^3 - x^2 - 1` with initial guesses `x0 = 1.0` and `x1 = 2.0`. Use a tolerance of `eps = 1e-8` and a maximum of `max_iter = 100`.\n",
    "\n",
    "Note: You can assume that the Secant method will converge to a root if the initial guesses are sufficiently close to the root. However, you may want to add some error handling in case the algorithm fails to converge or if there are other issues with the input."
   ]
  },
  {
   "cell_type": "code",
   "execution_count": 4,
   "id": "8b1eafb1",
   "metadata": {},
   "outputs": [
    {
     "name": "stdout",
     "output_type": "stream",
     "text": [
      "Root:  1.4655712318767653\n"
     ]
    }
   ],
   "source": [
    "def secant_method(f, x0, x1, eps=1e-8, max_iter=100):\n",
    "    \"\"\"\n",
    "    Implementation of the Secant method to find the root of a function f.\n",
    "\n",
    "    Parameters:\n",
    "    f (function): the function to find the root of.\n",
    "    x0, x1 (float): the initial guesses for the root.\n",
    "    eps (float, optional): the desired tolerance for the root.\n",
    "    max_iter (int, optional): the maximum number of iterations to perform.\n",
    "\n",
    "    Returns:\n",
    "    float: the estimated root of the function.\n",
    "    \"\"\"\n",
    "    ......\n",
    "\n",
    "\n",
    "def f(x):\n",
    "   .....\n",
    "\n",
    "x0, x1 = 1.0, 2.0\n",
    "root = secant_method(f, x0, x1)\n",
    "print(\"Root: \", root)\n"
   ]
  },
  {
   "cell_type": "markdown",
   "id": "07f8b62e",
   "metadata": {},
   "source": [
    "## Problem 2 (70 points)\n",
    "In this problem, you will write a program that authenticates a user by checking their username and password against a database stored in a text file.\n",
    "\n",
    "Your program should have the following features:\n",
    "\n",
    "1. The program should read the database from a text file called \"database.txt\". The file should contain one username and password pair per line, separated by a comma.\n",
    "2. The user will be prompted to enter a username.\n",
    "3. The program will check if the entered username exists in the database. If the username does not exist, the program should print an error message and prompt the user to enter another username. The user should be given up to five attempts to enter a valid username.\n",
    "4. If the username exists in the database, the program will prompt the user to enter a password.\n",
    "5. The program will check if the entered password matches the password associated with the entered username in the database. If the password is correct, the program should print a welcome message. If the password is incorrect, the program should print an error message and prompt the user to enter another password. The user should be given up to five attempts to enter a valid password.\n",
    "6. After successful login, the program should prompt the user if they want to add a new user to the database. If the user enters \"yes\", the program should prompt the user to enter a new username and password and add them to the database file. If the user enters \"no\", the program should exit.\n",
    "7. The program should validate the new username and password according to the following requirements:\n",
    "* The username must be at least 8 characters long, and cannot contain any spaces or special characters.\n",
    "* The password must be exactly 10 characters long, and must contain at least three special characters (defined as any character that is not a letter or a number), and no spaces.\n",
    "8. The program should include the following functions:\n",
    "* `read_database(file_name)`: This function takes a file name as input and returns a dictionary containing the usernames and passwords from the file.\n",
    "* `authenticate_user(username, password, database)`: This function takes a username, password, and database as input and returns True if the username and password match a pair in the database or False otherwise.\n",
    "* `get_username()`: This function prompts the user to enter a username and returns it.\n",
    "* `get_password()`: This function prompts the user to enter a password and returns it.\n",
    "* `add_user_to_database(database)`: This function prompts the user to enter a new username and password, validates them, and adds them to the database file.\n",
    "9. Use the provided example code as a starting point for your solution.\n",
    "\n",
    "Note: The database file should have a header line with the column names \"username\" and \"password\", followed by one username and password pair per line, separated by a comma."
   ]
  },
  {
   "cell_type": "code",
   "execution_count": null,
   "id": "a629e942",
   "metadata": {},
   "outputs": [],
   "source": []
  },
  {
   "cell_type": "code",
   "execution_count": null,
   "id": "815e2d8f",
   "metadata": {},
   "outputs": [],
   "source": []
  }
 ],
 "metadata": {
  "kernelspec": {
   "display_name": "Python 3 (ipykernel)",
   "language": "python",
   "name": "python3"
  },
  "language_info": {
   "codemirror_mode": {
    "name": "ipython",
    "version": 3
   },
   "file_extension": ".py",
   "mimetype": "text/x-python",
   "name": "python",
   "nbconvert_exporter": "python",
   "pygments_lexer": "ipython3",
   "version": "3.9.13"
  }
 },
 "nbformat": 4,
 "nbformat_minor": 5
}
