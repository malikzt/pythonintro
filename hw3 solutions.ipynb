{
 "cells": [
  {
   "cell_type": "markdown",
   "metadata": {},
   "source": [
    "# Homework 4\n",
    "\n",
    "## Problem 1 (30points)\n",
    "\n",
    "### Q1: \n",
    "Create a function that takes 2 strings as inputs, s1 and s2 and then creates a new string s3 made of the upper case letters in s1 and s2.\n",
    "\n",
    "Example: s1 = 'nahCAa' and s2 = 'JaBuLe' therefore the expected output shoud be s3 = 'CABLE'\n",
    "Please run this example or another one so you can check your code"
   ]
  },
  {
   "cell_type": "code",
   "execution_count": null,
   "metadata": {},
   "outputs": [],
   "source": [
    "# hint 1:\n",
    "L = 'Hell'\n",
    "B = 'o'\n",
    "F = L + B\n",
    "print(F)\n",
    "\n",
    "# hint 2:\n",
    "# you might neet two for loops"
   ]
  },
  {
   "cell_type": "code",
   "execution_count": null,
   "metadata": {},
   "outputs": [],
   "source": [
    "# write your code here:\n",
    "s1 = 'nahCAa' \n",
    "s2 = 'laBouLE' \n",
    "def find_my_word(s1,s2):\n",
    "    s3 =''\n",
    "    ..........\n",
    "    ..........\n",
    "\n",
    "s3 = find_my_word(s1,s2)\n",
    "print(s3)"
   ]
  },
  {
   "cell_type": "code",
   "execution_count": null,
   "metadata": {},
   "outputs": [],
   "source": [
    "s1 = 'nahCAa' \n",
    "s2 = 'laBouLE' \n",
    "def find_my_word(s1,s2):\n",
    "    s3 =''\n",
    "    for char in s1:\n",
    "        if char.isupper():\n",
    "            s3 = s3 + char\n",
    "            \n",
    "    for char in s2:\n",
    "        if char.isupper():\n",
    "            s3 = s3 + char\n",
    "    return s3       \n",
    "\n",
    "s3 = find_my_word(s1,s2)\n",
    "print(s3)"
   ]
  },
  {
   "cell_type": "markdown",
   "metadata": {},
   "source": [
    "### Q2:\n",
    "Write a code that asks user to enter his name and his year of birth. The code should check if was born before 2000 or not. If he/she was born before 2000, the code should print: \"welcome (name) you are (his age) years old\". if he/she was born after 2000, the code should print: \"(name), please go back you are (his age) years old\"\n",
    "<br>\n",
    "ex: your name: Farid\n",
    "<br>\n",
    "    year of birth: 1999\n",
    "<br>\n",
    "----> his age is 2021 - 1999 = 22 ---> \n",
    "<br>\n",
    "Output: welcome Farid you are 22 years old\n"
   ]
  },
  {
   "cell_type": "code",
   "execution_count": null,
   "metadata": {},
   "outputs": [],
   "source": [
    "name = input('Your name: ')\n",
    "age  = -1\n",
    "while age<0:\n",
    "    yob  = int(input('Your year of birth: '))\n",
    "    age  = 2021 - yob\n",
    "\n",
    "if yob<2000:\n",
    "    print(\"welcome %s, you are %d years old\"%(name,age))\n"
   ]
  },
  {
   "cell_type": "markdown",
   "metadata": {},
   "source": [
    "### Q3:\n",
    "Please use indexing inside the curly brackets so that you will decide the position instead of a default order.\n",
    "\n",
    "By filling inside the curly brackets, make sure each bracket is matched to the appropriate value.\n",
    "Please make sure to have only two numbers after the decimal points when float number will be displayed"
   ]
  },
  {
   "cell_type": "code",
   "execution_count": null,
   "metadata": {},
   "outputs": [],
   "source": [
    "#Type your code here.\n",
    "team1_score = 2\n",
    "team2_score = 3\n",
    "str=\"team 1 scored {} goals, while team 2 scored {} goals\\\n",
    "and the ratio of 2/3 is {}.\".format(team2_score, 2/3, team1_score)\n",
    "\n",
    "\n",
    "print(str)"
   ]
  },
  {
   "cell_type": "code",
   "execution_count": 1,
   "metadata": {},
   "outputs": [
    {
     "name": "stdout",
     "output_type": "stream",
     "text": [
      "team 1 scored 2 goals, while team 2 scored 3 goalsand the ratio of 2/3 is 0.67.\n"
     ]
    }
   ],
   "source": [
    "#Type your code here.\n",
    "team1_score = 2\n",
    "team2_score = 3\n",
    "str=\"team 1 scored {2} goals, while team 2 scored {0} goals\\\n",
    "and the ratio of 2/3 is {1:1.2f}.\".format(team2_score, 2/3, team1_score)\n",
    "\n",
    "\n",
    "print(str)"
   ]
  },
  {
   "cell_type": "markdown",
   "metadata": {},
   "source": [
    "## Problem 2 (30 points)\n",
    "A good way when formating is to partialy seperate the sentence we want to create or display from the print function, for example:\n",
    "```\n",
    "price = 49\n",
    "txt = \"The price is {:.2f} dollars\"\n",
    "print(txt.format(price))\n",
    "```\n",
    "Try it yourself:"
   ]
  },
  {
   "cell_type": "code",
   "execution_count": null,
   "metadata": {},
   "outputs": [],
   "source": [
    "price = 49\n",
    "txt = \"The price is {:.2f} dollars\"\n",
    "print(txt.format(price))"
   ]
  },
  {
   "cell_type": "markdown",
   "metadata": {},
   "source": [
    "another example:\n",
    "<br>\n",
    "```\n",
    "quantity = 3\n",
    "itemno = 567\n",
    "price = 49.5666\n",
    "myorder = \"I want {} pieces of item number {} for {:.2f} dollars.\"\n",
    "print(myorder.format(quantity, itemno, price))\n",
    "```\n",
    "Try it yourself:"
   ]
  },
  {
   "cell_type": "code",
   "execution_count": null,
   "metadata": {},
   "outputs": [],
   "source": [
    "quantity = 3\n",
    "itemno = 567\n",
    "price = 49.5666\n",
    "myorder = \"I want {} pieces of item number {} for {:.2f} dollars.\"\n",
    "print(myorder.format(quantity, itemno, price))"
   ]
  },
  {
   "cell_type": "markdown",
   "metadata": {},
   "source": [
    "### Q1:\n",
    "Rewrite the last code using the Formatting with Placeholders or an another word using the modulo % operator. The modulo % is also known as “string-formatting operator”."
   ]
  },
  {
   "cell_type": "code",
   "execution_count": null,
   "metadata": {},
   "outputs": [],
   "source": []
  },
  {
   "cell_type": "code",
   "execution_count": null,
   "metadata": {},
   "outputs": [],
   "source": [
    "quantity = 3\n",
    "itemno = 567\n",
    "price = 49.5666\n",
    "myorder = \"I want %d pieces of item number %d for %.2f dollars.\"\n",
    "print(myorder%(quantity, itemno, price))"
   ]
  },
  {
   "cell_type": "markdown",
   "metadata": {},
   "source": [
    "### Q2:\n",
    "Rewrite the last code using the Formatting of \"Formatted String Literals (f-strings)\". This formatting style  have some advantages over the.format method where we can use outside variables directly into the string instead of passing them as arguments."
   ]
  },
  {
   "cell_type": "code",
   "execution_count": null,
   "metadata": {},
   "outputs": [],
   "source": [
    "# hint:\n",
    "x = 3.14159265\n",
    "print(f'pi = {x:.2f}')"
   ]
  },
  {
   "cell_type": "code",
   "execution_count": null,
   "metadata": {},
   "outputs": [],
   "source": []
  },
  {
   "cell_type": "code",
   "execution_count": null,
   "metadata": {},
   "outputs": [],
   "source": [
    "quantity = 3\n",
    "itemno = 567\n",
    "price = 49.5666\n",
    "myorder = f\"I want {quantity} pieces of item number {itemno} for {price:.2f} dollars.\"\n",
    "print(myorder)"
   ]
  },
  {
   "cell_type": "markdown",
   "metadata": {},
   "source": [
    "## Problem 3 (40 points):\n",
    "Last week I looked to the standing of the English Premier League and I found the following standing:\n",
    "![alt text here](image1.png)\n",
    "I have created a text file named \"league_last_week.txt\" (attached) that list all the teams and their earned points so far.\n",
    "```\n",
    "Teams\tPts\n",
    "Manchester City\t56\n",
    "Manchester United\t46\n",
    "Leicester City\t46\n",
    "Chelsea\t42\n",
    "West Ham United\t42\n",
    "Liverpool\t40\n",
    "Everton\t37\n",
    "Aston Villa\t36\n",
    "Tottenham Hotspur\t36\n",
    "Arsenal\t34\n",
    "Leeds United\t32\n",
    "Wolverhampton Wanderers\t30\n",
    "Southampton\t29\n",
    "Crystal Palace\t29\n",
    "Burnley\t27\n",
    "Brighton & Hove Albion\t26\n",
    "Newcastle United\t25\n",
    "Fulham\t19\n",
    "West Bromwich Albion\t13\n",
    "Sheffield United\t11\n",
    "```\n",
    "Using my logic I would like to see if Liverpool can go up with this standing and I list my expectations for the next week in a text file names \"results_this_week.txt\"(attached):\n",
    "```\n",
    "team\twin/loose\n",
    "Manchester City\twin\n",
    "Manchester United\twin\n",
    "Leicester City\twin\n",
    "Chelsea\twin\n",
    "West Ham United\twin\n",
    "Liverpool\twin\n",
    "Everton\twin\n",
    "Aston Villa\ttie\n",
    "Tottenham Hotspur\tloose\n",
    "Arsenal\tloose\n",
    "Leeds United\tloose\n",
    "Wolverhampton Wanderers\tloose\n",
    "Southampton\tloose\n",
    "Crystal Palace\tloose\n",
    "Burnley\tloose\n",
    "Brighton & Hove Albion\tloose\n",
    "Newcastle United\tloose\n",
    "Fulham\tloose\n",
    "West Bromwich Albion\ttie\n",
    "Sheffield United\twin\n",
    "```\n",
    "The winner will get +3 points while the looser will get 0 points and tie game will give 1 point for both teams.\n",
    "\n",
    "Questions:\n",
    "1. Please write a code that reads and display both attached files and make sure to track the team names and their points.\n",
    "2. Please write a code that creates a new file named \"league_next_week.txt\" that has the same content of \"league_last_week.txt\" but with updated points (you don't need to worry about updating the ranking, we will do that during the exam)\n"
   ]
  },
  {
   "cell_type": "code",
   "execution_count": null,
   "metadata": {},
   "outputs": [],
   "source": [
    "# hints (you might use and you might not, up to you and other methods are welcome):\n",
    "# hint 1\n",
    "strings = ['do', 're', 'mi']\n",
    "print(' '.join(strings))"
   ]
  },
  {
   "cell_type": "code",
   "execution_count": null,
   "metadata": {},
   "outputs": [],
   "source": [
    "# question 1"
   ]
  },
  {
   "cell_type": "code",
   "execution_count": null,
   "metadata": {},
   "outputs": [],
   "source": [
    "# question 2"
   ]
  },
  {
   "cell_type": "code",
   "execution_count": null,
   "metadata": {},
   "outputs": [],
   "source": [
    "# question 3"
   ]
  },
  {
   "cell_type": "code",
   "execution_count": 18,
   "metadata": {},
   "outputs": [
    {
     "name": "stdout",
     "output_type": "stream",
     "text": [
      "Teams\tPts\n",
      "\n",
      "Manchester City\t56\n",
      "\n",
      "Manchester United\t46\n",
      "\n",
      "Leicester City\t46\n",
      "\n",
      "Chelsea\t42\n",
      "\n",
      "West Ham United\t42\n",
      "\n",
      "Liverpool\t40\n",
      "\n",
      "Everton\t37\n",
      "\n",
      "Aston Villa\t36\n",
      "\n",
      "Tottenham Hotspur\t36\n",
      "\n",
      "Arsenal\t34\n",
      "\n",
      "Leeds United\t32\n",
      "\n",
      "Wolverhampton Wanderers\t30\n",
      "\n",
      "Southampton\t29\n",
      "\n",
      "Crystal Palace\t29\n",
      "\n",
      "Burnley\t27\n",
      "\n",
      "Brighton & Hove Albion\t26\n",
      "\n",
      "Newcastle United\t25\n",
      "\n",
      "Fulham\t19\n",
      "\n",
      "West Bromwich Albion\t13\n",
      "\n",
      "Sheffield United\t11\n",
      "[56, 46, 46, 42, 42, 40, 37, 36, 36, 34, 32, 30, 29, 29, 27, 26, 25, 19, 13, 11]\n",
      "['Manchester City', 'Manchester United', 'Leicester City', 'Chelsea', 'West Ham United', 'Liverpool', 'Everton', 'Aston Villa', 'Tottenham Hotspur', 'Arsenal', 'Leeds United', 'Wolverhampton Wanderers', 'Southampton', 'Crystal Palace', 'Burnley', 'Brighton & Hove Albion', 'Newcastle United', 'Fulham', 'West Bromwich Albion', 'Sheffield United']\n",
      "team\twin/loose\n",
      "\n",
      "Manchester City\twin\n",
      "\n",
      "Manchester United\twin\n",
      "\n",
      "Leicester City\twin\n",
      "\n",
      "Chelsea\twin\n",
      "\n",
      "West Ham United\twin\n",
      "\n",
      "Liverpool\twin\n",
      "\n",
      "Everton\twin\n",
      "\n",
      "Aston Villa\ttie\n",
      "\n",
      "Tottenham Hotspur\tloose\n",
      "\n",
      "Arsenal\tloose\n",
      "\n",
      "Leeds United\tloose\n",
      "\n",
      "Wolverhampton Wanderers\tloose\n",
      "\n",
      "Southampton\tloose\n",
      "\n",
      "Crystal Palace\tloose\n",
      "\n",
      "Burnley\tloose\n",
      "\n",
      "Brighton & Hove Albion\tloose\n",
      "\n",
      "Newcastle United\tloose\n",
      "\n",
      "Fulham\tloose\n",
      "\n",
      "West Bromwich Albion\ttie\n",
      "\n",
      "Sheffield United\twin\n",
      "[59, 49, 49, 45, 45, 43, 40, 37, 36, 34, 32, 30, 29, 29, 27, 26, 25, 19, 14, 14]\n"
     ]
    }
   ],
   "source": [
    "# question 1\n",
    "#%%\n",
    "file_data = open('league_last_week.txt', 'r')\n",
    "points = []\n",
    "team = []\n",
    "count = -1\n",
    "for line in file_data:\n",
    "    print(line)\n",
    "    values =  line.split() \n",
    "    if count>=0:\n",
    "        points.append( int(values[-1]) )\n",
    "        team.append(' '.join(values[:-1]))\n",
    "    count +=1\n",
    "    \n",
    "print(points)\n",
    "print(team)  \n",
    "file_data.close()\n",
    "\n",
    "#%%\n",
    "dic = {'win':3,'loose':0,'tie':1}\n",
    "file_data = open('results_this_week.txt', 'r')\n",
    "points_to_add = []\n",
    "count = -1\n",
    "for line in file_data:\n",
    "    print(line)\n",
    "    values =  line.split() \n",
    "    if count>=0:\n",
    "        points[count] += dic[values[-1]]\n",
    "    count +=1\n",
    "    \n",
    "print(points)\n",
    "file_data.close()"
   ]
  },
  {
   "cell_type": "code",
   "execution_count": 19,
   "metadata": {},
   "outputs": [
    {
     "name": "stdout",
     "output_type": "stream",
     "text": [
      "Manchester City 59 \n",
      "\n",
      "Manchester United 49 \n",
      "\n",
      "Leicester City 49 \n",
      "\n",
      "Chelsea 45 \n",
      "\n",
      "West Ham United 45 \n",
      "\n",
      "Liverpool 43 \n",
      "\n",
      "Everton 40 \n",
      "\n",
      "Aston Villa 37 \n",
      "\n",
      "Tottenham Hotspur 36 \n",
      "\n",
      "Arsenal 34 \n",
      "\n",
      "Leeds United 32 \n",
      "\n",
      "Wolverhampton Wanderers 30 \n",
      "\n",
      "Southampton 29 \n",
      "\n",
      "Crystal Palace 29 \n",
      "\n",
      "Burnley 27 \n",
      "\n",
      "Brighton & Hove Albion 26 \n",
      "\n",
      "Newcastle United 25 \n",
      "\n",
      "Fulham 19 \n",
      "\n",
      "West Bromwich Albion 14 \n",
      "\n",
      "Sheffield United 14 \n",
      "\n"
     ]
    }
   ],
   "source": [
    "# question 2\n",
    "new_file = open('league_next_week.txt','w')\n",
    "for i in range(0,len(team)):\n",
    "    new_file.write(\"%s %d \\n\"%(team[i],points[i]))\n",
    "new_file.close()\n",
    "\n",
    "\n",
    "file_data = open('league_next_week.txt', 'r')\n",
    "count = -1\n",
    "for line in file_data:\n",
    "    print(line)\n",
    "\n",
    "file_data.close()"
   ]
  },
  {
   "cell_type": "code",
   "execution_count": 21,
   "metadata": {},
   "outputs": [
    {
     "name": "stdout",
     "output_type": "stream",
     "text": [
      "Manchester United 49 \n",
      "\n",
      "Leicester City 49 \n",
      "\n",
      "Chelsea 45 \n",
      "\n",
      "West Ham United 45 \n",
      "\n",
      "Liverpool 43 \n",
      "\n",
      "Everton 40 \n",
      "\n",
      "Aston Villa 37 \n",
      "\n",
      "Tottenham Hotspur 36 \n",
      "\n",
      "Arsenal 34 \n",
      "\n",
      "Leeds United 32 \n",
      "\n",
      "Wolverhampton Wanderers 30 \n",
      "\n",
      "Southampton 29 \n",
      "\n",
      "Crystal Palace 29 \n",
      "\n",
      "Burnley 27 \n",
      "\n",
      "Brighton & Hove Albion 26 \n",
      "\n",
      "Newcastle United 25 \n",
      "\n",
      "Fulham 19 \n",
      "\n",
      "West Bromwich Albion 14 \n",
      "\n",
      "Sheffield United 14 \n",
      "\n",
      "{'Manchester United': '49', 'Leicester City': '49', 'Chelsea': '45', 'West Ham United': '45', 'Liverpool': '43', 'Everton': '40', 'Aston Villa': '37', 'Tottenham Hotspur': '36', 'Arsenal': '34', 'Leeds United': '32', 'Wolverhampton Wanderers': '30', 'Southampton': '29', 'Crystal Palace': '29', 'Burnley': '27', 'Brighton & Hove Albion': '26', 'Newcastle United': '25', 'Fulham': '19', 'West Bromwich Albion': '14', 'Sheffield United': '14'}\n",
      "{'Manchester United': '49', 'Leicester City': '49', 'Chelsea': '45', 'West Ham United': '45', 'Liverpool': '43', 'Everton': '40', 'Aston Villa': '37', 'Tottenham Hotspur': '36', 'Arsenal': '34', 'Leeds United': '32', 'Wolverhampton Wanderers': '30', 'Southampton': '29', 'Crystal Palace': '29', 'Burnley': '27', 'Brighton & Hove Albion': '26', 'Newcastle United': '25', 'Fulham': '19', 'West Bromwich Albion': '14', 'Sheffield United': '14'}\n",
      "Liverpool will have 43 points and West Ham United will have 45 points\n"
     ]
    }
   ],
   "source": [
    "# question 3\n",
    "League_Results={}\n",
    "with open(\"league_next_week.txt\",\"r\") as file3:\n",
    "    next(file3)\n",
    "    for lines in file3:\n",
    "       print(lines)\n",
    "       data= lines.split()\n",
    "       if count>=1:\n",
    "            Team = ' '.join(data[:-1])\n",
    "            League_Results[Team] = data[-1]\n",
    "       count +=1\n",
    "print(League_Results)    \n",
    "file3.close()  \n",
    "\n",
    "print(League_Results)\n",
    "print('Liverpool will have {} points and West Ham United will have {} points'.format(League_Results['Liverpool'],League_Results['West Ham United']))"
   ]
  },
  {
   "cell_type": "code",
   "execution_count": null,
   "metadata": {},
   "outputs": [],
   "source": []
  }
 ],
 "metadata": {
  "kernelspec": {
   "display_name": "Python 3 (ipykernel)",
   "language": "python",
   "name": "python3"
  },
  "language_info": {
   "codemirror_mode": {
    "name": "ipython",
    "version": 3
   },
   "file_extension": ".py",
   "mimetype": "text/x-python",
   "name": "python",
   "nbconvert_exporter": "python",
   "pygments_lexer": "ipython3",
   "version": "3.9.13"
  }
 },
 "nbformat": 4,
 "nbformat_minor": 4
}
